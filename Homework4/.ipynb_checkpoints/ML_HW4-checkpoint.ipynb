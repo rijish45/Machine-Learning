{
 "cells": [
  {
   "cell_type": "markdown",
   "metadata": {},
   "source": [
    "# COMPSCI 671 Srping 2019"
   ]
  },
  {
   "cell_type": "markdown",
   "metadata": {},
   "source": [
    "## HW 4"
   ]
  },
  {
   "cell_type": "markdown",
   "metadata": {},
   "source": [
    "## 1. Convexity I "
   ]
  },
  {
   "cell_type": "markdown",
   "metadata": {},
   "source": [
    "### 1.1  Answer:"
   ]
  },
  {
   "cell_type": "markdown",
   "metadata": {},
   "source": [
    "Suppose function $f$ and $g$ are convex functions, thus we have:\n",
    "<br>\n",
    "<br>\n",
    "$\n",
    "f\\big(\\theta\\mathbf{x}+(1-\\theta)\\mathbf{z}\\big) \\leq \\theta{f(\\mathbf{x})+(1-\\theta)f(\\mathbf{z})} \\\\\n",
    "g\\big(\\theta\\mathbf{x}+(1-\\theta)\\mathbf{z}\\big) \\leq \\theta{g(\\mathbf{x})+(1-\\theta)g(\\mathbf{z})}\n",
    "$\n",
    "<br>\n",
    "<br>\n",
    "Suppose $h(x) = f(x) + g(x)$, then we have:\n",
    "<br>\n",
    "<br>\n",
    "$\n",
    "\\begin{align}\n",
    "h\\big(\\theta\\mathbf{x}+(1-\\theta)\\mathbf{z}\\big) &= f\\big(\\theta\\mathbf{x}+(1-\\theta)\\mathbf{z}\\big)  + g\\big(\\theta\\mathbf{x}+(1-\\theta)\\mathbf{z}\\big)\\\\\n",
    "&\\leq \\theta{f(\\mathbf{x})+(1-\\theta)f(\\mathbf{z})}+\\theta{g(\\mathbf{x})+(1-\\theta)g(\\mathbf{z})} \\\\\n",
    "&\\leq \\theta (f(\\mathbf{x})+g(\\mathbf{x})) + (1-\\theta)(f(\\mathbf{z})+g(\\mathbf{z})) \\\\\n",
    "&\\leq \\theta h(\\mathbf{x}) + (1-\\theta)h(\\mathbf{z})\n",
    "\\end{align}\n",
    "$\n",
    "<br>\n",
    "<br>\n",
    "$h\\big(\\theta\\mathbf{x}+(1-\\theta)\\mathbf{z}\\big) \\leq \\theta h(\\mathbf{x}) + (1-\\theta)h(\\mathbf{z})$ fullfills the definition of a convex function, thus we can conclude that the sum of two convex functions is also convex.\n",
    "</font>"
   ]
  },
  {
   "cell_type": "markdown",
   "metadata": {},
   "source": [
    "### 1.2 Answer:"
   ]
  },
  {
   "cell_type": "markdown",
   "metadata": {},
   "source": [
    "Given $f(x) =$, to prove $f$ is convex, prove $ f\\big(\\theta x+(1-\\theta)z\\big) \\leq \\theta{f(x)+(1-\\theta)f(z)}$ \n",
    "\n",
    "\n",
    "\n",
    "\n",
    "\n",
    "\n"
   ]
  },
  {
   "cell_type": "markdown",
   "metadata": {},
   "source": [
    "###  $\\cdot h$ is convex and $g_i$ is convex and h is increasing in its $i$-th compoenent:\n",
    "<br>\n",
    "Proof:\n",
    "<br>\n",
    "Becase $h$ is a convex function, we have:\n",
    "<br>\n",
    "<br>\n",
    "$\n",
    "\\begin{align}\n",
    "h(\\theta g_1(x)+(1-\\theta)g_1(z),\\theta g_2(x)+(1-\\theta)g_2(z), ... \\theta g_n(x)+(1-\\theta)g_n(z)) &\\leq \\theta  h(g_1(x),g_2(x),..,g_n(x)) + (1-\\theta) h(g_1(z),g_2(z),..,g_n(z)) \\\\\n",
    "&  \\leq \\theta{f(x)+(1-\\theta)f(z)}\n",
    "\\end{align}\n",
    "$\n",
    "<br>\n",
    "<br>\n",
    "Becuase $g_i$ is convex, we have:\n",
    "<br>\n",
    "<br>\n",
    "$\n",
    "g_n(\\theta x + (1-\\theta)z) \\leq \\theta g_n(x) + (1-\\theta)g_n(z)\n",
    "$\n",
    "<br>\n",
    "<br>\n",
    "Because $h$ is increasing in each $i$th compoenent, so we have:\n",
    "<br>\n",
    "<br>\n",
    "$\n",
    "\\begin{align}\n",
    "h(g_1(\\theta x + (1-\\theta)z),g_2(g_n(\\theta x + (1-\\theta)z)),...g_n(\\theta x + (1-\\theta)z))&\\leq h(\\theta g_1(x)+(1-\\theta)g_1(z),\\theta g_2(x)+(1-\\theta)g_2(z), ... \\theta g_n(x)+(1-\\theta)g_n(z))\\\\\n",
    "f \\big(\\theta x+(1-\\theta)z\\big) &\\leq\n",
    "\\end{align}\n",
    "$\n",
    "<br>\n",
    "<br>\n",
    "Therefore, accodring to the transitivity of inequalities:\n",
    "<br>\n",
    "<br>\n",
    "$\n",
    "f \\big(\\theta x+(1-\\theta)z\\big) \\leq h(\\theta g_1(x)+(1-\\theta)g_1(z),\\theta g_2(x)+(1-\\theta)g_2(z), ... \\theta g_n(x)+(1-\\theta)g_n(z)) \\leq \\theta{f(x)+(1-\\theta)f(z)}\n",
    "$\n",
    "<br>\n",
    "<br>\n",
    "$f \\big(\\theta x+(1-\\theta)z\\big)  \\leq   \\theta{f(x)+(1-\\theta)f(z)} $\n",
    "<br>\n",
    "<br>\n",
    "$f$ is convex "
   ]
  },
  {
   "cell_type": "markdown",
   "metadata": {},
   "source": [
    "###  $\\cdot h$ is convex and $g_i$ is affine functions:\n",
    "<br>\n",
    "Proof:\n",
    "<br>\n",
    "Becase $h$ is a convex function, we have:\n",
    "<br>\n",
    "<br>\n",
    "$\n",
    "\\begin{align}\n",
    "h(\\theta g_1(x)+(1-\\theta)g_1(z),\\theta g_2(x)+(1-\\theta)g_2(z), ... \\theta g_n(x)+(1-\\theta)g_n(z)) &\\leq \\theta  h(g_1(x),g_2(x),..,g_n(x)) + (1-\\theta) h(g_1(z),g_2(z),..,g_n(z)) \\\\\n",
    "&  \\leq \\theta{f(x)+(1-\\theta)f(z)}\n",
    "\\end{align}\n",
    "$\n",
    "<br>\n",
    "<br>\n",
    "Becuase $g_i$ is affine function, we have:\n",
    "<br>\n",
    "<br>\n",
    "$\n",
    "g_n(\\theta x + (1-\\theta)z) = \\theta g_n(x) + (1-\\theta)g_n(z)\n",
    "$\n",
    "<br>\n",
    "<br>\n",
    "Thus, so we have:\n",
    "<br>\n",
    "<br>\n",
    "$\n",
    "\\begin{align}\n",
    "h(g_1(\\theta x + (1-\\theta)z),g_2(g_n(\\theta x + (1-\\theta)z)),...g_n(\\theta x + (1-\\theta)z))& = h(\\theta g_1(x)+(1-\\theta)g_1(z),\\theta g_2(x)+(1-\\theta)g_2(z), ... \\theta g_n(x)+(1-\\theta)g_n(z))\\\\\n",
    "f \\big(\\theta x+(1-\\theta)z\\big) & =\n",
    "\\end{align}\n",
    "$\n",
    "<br>\n",
    "<br>\n",
    "Given two inequalities:\n",
    "<br>\n",
    "<br>\n",
    "$\n",
    "h(\\theta g_1(x)+(1-\\theta)g_1(z),\\theta g_2(x)+(1-\\theta)g_2(z), ... \\theta g_n(x)+(1-\\theta)g_n(z)) \\leq \\theta{f(x)+(1-\\theta)f(z)}   \\\\\n",
    "\\\\\n",
    "f \\big(\\theta x+(1-\\theta)z\\big)  = h(\\theta g_1(x)+(1-\\theta)g_1(z),\\theta g_2(x)+(1-\\theta)g_2(z), ... \\theta g_n(x)+(1-\\theta)g_n(z))\n",
    "$\n",
    "<br>\n",
    "<br>\n",
    "Therefore, accodring to the transitivity of equalities:\n",
    "<br>\n",
    "<br>\n",
    "$f \\big(\\theta x+(1-\\theta)z\\big)  \\leq   \\theta{f(x)+(1-\\theta)f(z)}  $\n",
    "<br>\n",
    "<br>\n",
    "$f$ is convex "
   ]
  },
  {
   "cell_type": "markdown",
   "metadata": {},
   "source": [
    "###  $\\cdot h$ is convex and $g_i$ is concave and h is decreasing in its $i$-th compoenent:\n",
    "Proof:\n",
    "<br>\n",
    "Becase $h$ is a convex function, we have:\n",
    "<br>\n",
    "<br>\n",
    "$\n",
    "\\begin{align}\n",
    "h(\\theta g_1(x)+(1-\\theta)g_1(z),\\theta g_2(x)+(1-\\theta)g_2(z), ... \\theta g_n(x)+(1-\\theta)g_n(z)) &\\leq \\theta  h(g_1(x),g_2(x),..,g_n(x)) + (1-\\theta) h(g_1(z),g_2(z),..,g_n(z)) \\\\\n",
    "&  \\leq \\theta{f(x)+(1-\\theta)f(z)}\n",
    "\\end{align}\n",
    "$\n",
    "<br>\n",
    "<br>\n",
    "Becuase $g_i$ is concave, we have:\n",
    "<br>\n",
    "<br>\n",
    "$\n",
    "\\theta g_n(x) + (1-\\theta)g_n(z) \\leq g_n(\\theta x + (1-\\theta)z) \n",
    "$\n",
    "<br>\n",
    "<br>\n",
    "Because $h$ is decreasing in each $i$th compoenent, so we have:\n",
    "<br>\n",
    "<br>\n",
    "$\n",
    "\\begin{align}\n",
    "h(g_1(\\theta x + (1-\\theta)z),g_2(g_n(\\theta x + (1-\\theta)z)),...g_n(\\theta x + (1-\\theta)z))&\\leq h(\\theta g_1(x)+(1-\\theta)g_1(z),\\theta g_2(x)+(1-\\theta)g_2(z), ... \\theta g_n(x)+(1-\\theta)g_n(z))\\\\\n",
    "f \\big(\\theta x+(1-\\theta)z\\big) &\\leq\n",
    "\\end{align}\n",
    "$\n",
    "<br>\n",
    "<br>\n",
    "Therefore, accodring to the transitivity of inequalities:\n",
    "<br>\n",
    "<br>\n",
    "$\n",
    "f \\big(\\theta x+(1-\\theta)z\\big) \\leq h(\\theta g_1(x)+(1-\\theta)g_1(z),\\theta g_2(x)+(1-\\theta)g_2(z), ... \\theta g_n(x)+(1-\\theta)g_n(z)) \\leq \\theta{f(x)+(1-\\theta)f(z)}\n",
    "$\n",
    "<br>\n",
    "<br>\n",
    "$f \\big(\\theta x+(1-\\theta)z\\big)  \\leq   \\theta{f(x)+(1-\\theta)f(z)} $\n",
    "<br>\n",
    "<br>\n",
    "$f$ is convex "
   ]
  },
  {
   "cell_type": "markdown",
   "metadata": {},
   "source": [
    "### 1.3 Answer:"
   ]
  },
  {
   "cell_type": "markdown",
   "metadata": {},
   "source": [
    "Assume the maximum of the convex function $f$ over the polyheron is achieved on a point $x_0$ which is inside the polyhedron, \n",
    "<br>\n",
    "meanwhile it exits two points on the boundary $x_1$ and $x_2$ which the connecting line of them passes through $x_0$:\n",
    "<br>\n",
    "<br>\n",
    "$$x_0 = \\lambda x_1 + (1-\\lambda) x_2  \\ \\ \\ \\ \\ \\ \\  \\  \\ \\ \\ \\ \\ \\ \\  \\ \\ \\ \\ \\ \\  \\ \\ \\ \\ \\ \\ \\  \\  \\ \\ \\ \\ \\ \\ \\ \\  \\ \\ \\ \\ \\ \\ \\ \\ \\ \\ \\ \\ \\ \\  \\  \\ \\ \\ \\ \\ \\ \\ (1)$$ \n",
    "therefore , due to the properties convexity:\n",
    "<br>\n",
    "<br>\n",
    "$$\n",
    "f(\\lambda x_1 + (1-\\lambda) x_2) \\leq \\lambda f(x_1) + (1-\\lambda) f(x_2)    \\ \\ \\ \\ \\ \\ \\  \\ \\ \\ \\ \\ \\ \\  \\  \\ \\ \\ \\ \\ \\ \\     (2)\n",
    "$$\n",
    "<br>\n",
    "Given $f(x_0)$ is the maximum value:\n",
    "<br>\n",
    "<br>\n",
    "$$\n",
    "\\lambda f(x_1) + (1-\\lambda) f(x_2) < \\lambda f(x_0) + (1-\\lambda) f(x_0) = f(x_0)   \\ \\ \\ \\  (3)\n",
    "$$\n",
    "<br>\n",
    "Use the transitive relation of inequalities from (2) , (3):\n",
    "<br>\n",
    "<br>\n",
    "$$\n",
    "f(\\lambda x_1 + (1-\\lambda) x_2) < f(x_0)    \\ \\ \\ \\ \\ \\ \\  \\  \\ \\ \\ \\ \\ \\  \\ \\ \\ \\ \\ \\ \\  \\  \\ \\ \\ \\ \\ \\ \\ \\  \\ \\ \\ \\ \\ \\ \\ \\ \\ \\ \\ \\ \\ \\  \\  \\ \\ \\ \\ \\ \\ \\ (4)\n",
    "$$\n",
    "<br>\n",
    "<br>\n",
    "Inequality (4) shows that $f(\\lambda x_1 + (1-\\lambda) x_2) = f(x_0) < f(x_0)$ which rises the contradition. \n",
    "<br>\n",
    "Therefore, the maximum value cannot be achieved from the interior of the polyheron. \n",
    "\n",
    "Assume the maximum value can be achieved on a point $x_0$ which lies on the edge of the polyhedron, \n",
    "<br>\n",
    "meanwhile we can find two points $x_1$ and $x_2$ (two vertices on that edege) \n",
    "whose connecting segment goes through $x_0$, \n",
    "<br>\n",
    "we can use the same proof to show it encounters the similar contradiction.\n",
    "<br>\n",
    "In conclusion, the maximum of a convex function f over the polyhedron P \n",
    "can only be found on one of its vertices. "
   ]
  },
  {
   "cell_type": "markdown",
   "metadata": {},
   "source": [
    "## 2. Convexity II"
   ]
  },
  {
   "cell_type": "markdown",
   "metadata": {},
   "source": [
    "### 2.1 Answer:"
   ]
  },
  {
   "cell_type": "code",
   "execution_count": 32,
   "metadata": {},
   "outputs": [
    {
     "data": {
      "image/png": "[encoded data removed]",
      "text/plain": [
       "<Figure size 432x288 with 1 Axes>"
      ]
     },
     "metadata": {
      "needs_background": "light"
     },
     "output_type": "display_data"
    }
   ],
   "source": [
    "import matplotlib.pyplot as plt\n",
    "import numpy as np\n",
    "\n",
    "x1 = np.arange(-5,5,1)\n",
    "x2 = 1- x1\n",
    "plt.plot(x1,x2)\n",
    "plt.xlim(0,1)\n",
    "plt.ylim(0,1)\n",
    "x1_star = 1/2\n",
    "x2_star = 1/2\n",
    "plt.plot(x1_star, x2_star,color ='green', marker='o')\n",
    "y1 = 10\n",
    "plt.fill_between(x1, x2, y1, color='blue', alpha='0.5')\n",
    "plt.show()"
   ]
  },
  {
   "cell_type": "markdown",
   "metadata": {},
   "source": [
    "### 2.2 Answer:"
   ]
  },
  {
   "cell_type": "code",
   "execution_count": 94,
   "metadata": {},
   "outputs": [],
   "source": [
    "import random\n",
    "w1 =random.sample(range(-2000, 2000), 4000)\n",
    "w2 =random.sample(range(-2000,2000),4000)\n",
    "g = np.ones(4000) - np.array(w1)-np.array(w2)\n",
    "f = np.array(w1)**2+ np.array(w2)**2\n",
    "index = np.where(g<=0)\n",
    "f_fe  = f[index]\n",
    "g_fe  = g[index]"
   ]
  },
  {
   "cell_type": "code",
   "execution_count": 96,
   "metadata": {},
   "outputs": [
    {
     "data": {
      "image/png": "[encoded data removed]",
      "text/plain": [
       "<Figure size 432x288 with 1 Axes>"
      ]
     },
     "metadata": {
      "needs_background": "light"
     },
     "output_type": "display_data"
    }
   ],
   "source": [
    "plt.plot([g],[f],marker='o',markersize=15,color='red')\n",
    "plt.plot([g_fe],[f_fe],marker='o',markersize=15,color = 'blue')\n",
    "plt.show()"
   ]
  },
  {
   "cell_type": "markdown",
   "metadata": {},
   "source": [
    "### 2.3 Answer:"
   ]
  },
  {
   "cell_type": "markdown",
   "metadata": {},
   "source": [
    "Use the KKT conditions\n",
    "<br>\n",
    "Lagrangian stationary:\n",
    "<br>\n",
    "<br>\n",
    "$\n",
    "\\frac{\\partial \\mathcal{L}{(\\mathbf{x},\\lambda)}}{\\partial x_1} = \\frac{d \\ x_1^2+x_2^2 + \\lambda (1-x_1-x_2)}{dx_1} = 2x_1 - \\lambda = 0 \\\\\n",
    "\\frac{\\partial \\mathcal{L}{(\\mathbf{x},\\lambda)}}{\\partial x_2} = \\frac{d \\ x_1^2+x_2^2 + \\lambda (1-x_1-x_2)}{dx_2} = 2x_2 - \\lambda = 0\n",
    "$\n",
    "<br>\n",
    "$\n",
    "x_1 = \\frac{\\lambda}{2}  \\\\\n",
    "x_2 = \\frac{\\lambda}{2}\n",
    "$"
   ]
  },
  {
   "cell_type": "markdown",
   "metadata": {},
   "source": [
    "Complementary Slackness:\n",
    "$\\lambda = 0$ or  $g(\\mathbf{x}) = 0$\n",
    "<br>\n",
    "<br>\n",
    "if $\\lambda = 0$, then the primal feasibility will not hold: $1 - 0 - 0 > 0$\n",
    "<br>\n",
    "<br>\n",
    "then we have:\n",
    "$\n",
    "g(\\mathbf{x}) = 0, 1 - x_1 - x_2 = 0   \\\\\n",
    "\\frac{\\lambda}{2} + \\frac{\\lambda}{2} = 1, \\lambda = 1 \n",
    "$\n",
    "<br>\n",
    "<br>\n",
    "$\n",
    "x_1 = 0.5 , x_2 = 0.5\n",
    "$\n",
    "<br>\n",
    "<br>\n",
    "$\n",
    "y^* = 0 \\\\\n",
    "z^* = 0.5 \\\\\n",
    "\\lambda ^* = 1 \\\\\n",
    "$"
   ]
  },
  {
   "cell_type": "code",
   "execution_count": 93,
   "metadata": {},
   "outputs": [
    {
     "data": {
      "image/png": "[encoded data removed]",
      "text/plain": [
       "<Figure size 432x288 with 1 Axes>"
      ]
     },
     "metadata": {
      "needs_background": "light"
     },
     "output_type": "display_data"
    }
   ],
   "source": [
    "plt.plot(0, 0.5,color ='green', marker='o')\n",
    "y = np.arange(0,5)\n",
    "z = 0.5 -y\n",
    "\n",
    "plt.plot(y,z, color = 'blue')\n",
    "plt.show()"
   ]
  },
  {
   "cell_type": "markdown",
   "metadata": {},
   "source": [
    "### 2.4 Answer:"
   ]
  },
  {
   "cell_type": "markdown",
   "metadata": {},
   "source": [
    "$q(\\lambda) = \\text{min}_x \\left[f(x)+\\lambda g(x)\\right]$"
   ]
  },
  {
   "cell_type": "markdown",
   "metadata": {},
   "source": [
    "For any fixed value $\\mathbf{x}$, the quantity inside the brackets is an affine function of $\\lambda$, because $g(x)$ and $f(x)$  are just constants as far as only $\\lambda$ is concerned. Therefore, $q(\\lambda)$ is concave"
   ]
  },
  {
   "cell_type": "markdown",
   "metadata": {},
   "source": [
    "## 3. Support Vector Machine"
   ]
  },
  {
   "cell_type": "markdown",
   "metadata": {},
   "source": [
    "### 3.1 Answer:"
   ]
  },
  {
   "cell_type": "markdown",
   "metadata": {},
   "source": [
    "$$f(w,\\epsilon_i) =\\min_w \\left(\\frac{1}{2} \\|w\\|_2^2 + C\\cdot\\sum_i\\epsilon_i\\right)$$\n",
    "subject to:$$ g([w,b],\\epsilon) = (1-\\epsilon_i)  - y_i(w^Tx_i + b) \\leq 0 \\; \\forall i \\in \\{1,...,n\\}$$\n",
    "<br>\n",
    "$$ h(\\epsilon) = -\\epsilon_i \\leq 0 \\hspace{0.2 cm} \\forall i \\in \\{1,...,n\\} $$"
   ]
  },
  {
   "cell_type": "markdown",
   "metadata": {},
   "source": [
    "leading to the Lagrangian:\n",
    "$$\n",
    "\\mathcal{L}(w,b,\\epsilon, a,r) = \\frac{1}{2}{ \\|w\\|_2^2} + C\\sum_i\\epsilon_i - \\sum_i\\alpha_i\\left[y_i(w^Tx_i + b) -  (1-\\epsilon_i)\\right] - \\sum_i r_i \\epsilon_i\n",
    "$$"
   ]
  },
  {
   "cell_type": "markdown",
   "metadata": {},
   "source": [
    "KKT conditions:\n",
    ">- Lagrangian stationarity:\n",
    "<br>\n",
    "$\n",
    "\\begin{align}\n",
    "&\\nabla_w\\mathcal{L}(w,b,\\epsilon,a,r) = w -\\sum_i\\alpha_i y_ix_i = 0 \\ \\ \\ \\rightarrow  w = \\sum_i\\alpha_i y_ix_i \\\\\n",
    "&\\frac{\\partial}{\\partial b}\\mathcal{L}(w,b,\\epsilon,a,r)  =  - \\sum_i\\alpha_iy_i = 0 \\ \\ \\ \\rightarrow  \\sum_i\\alpha_iy_i = 0  \\\\\n",
    "&\\frac{\\partial}{\\partial \\epsilon} =  C -  \\alpha_i -  r_i =0  \\ \\ \\ \\rightarrow   C =\\alpha_i + r_i\n",
    "\\end{align}\n",
    "$\n",
    "<br>\n",
    "<br>\n",
    ">- dual feasibility:\n",
    "<br>\n",
    "<br>\n",
    "$\n",
    "\\alpha_i^* \\geq 0 \\\\\n",
    "r_i^* \\geq 0\n",
    "$\n",
    "<br>\n",
    "<br>\n",
    ">- complementary slackness:\n",
    "<br>\n",
    "<br>\n",
    "$\\alpha_i^*\\left[(1-\\epsilon_i^*)  - y_i(w^Tx_i + b^*)\\right]  = 0 \\\\\n",
    "r_i\\epsilon_i^*  = 0 \n",
    "$\n",
    "<br>\n",
    "<br>\n",
    ">- primal feasibility:\n",
    "<br>\n",
    "<br>\n",
    "$ g([w,b],\\epsilon) = (1-\\epsilon_i)  - y_i(w^Tx_i + b) \\leq 0 \\; \\forall i \\in \\{1,...,n\\}$\n",
    "<br>\n",
    "$ h(\\epsilon) = -\\epsilon_i \\leq 0 \\hspace{0.2 cm} \\forall i \\in \\{1,...,n\\} $"
   ]
  },
  {
   "cell_type": "markdown",
   "metadata": {},
   "source": [
    "dual objective:\n",
    "$\\mathcal{L}(w,b,\\epsilon, a,r) = \\frac{1}{2}{ \\|w\\|_2^2} + C\\sum_i\\epsilon_i - \\sum_i\\alpha_iy_iw^Tx_i - \\sum_i\\alpha_iy_i b + \\sum_i\\alpha_i(1-\\epsilon_i) - \\sum_i r_i \\epsilon_i$"
   ]
  },
  {
   "cell_type": "markdown",
   "metadata": {},
   "source": [
    "$\\mathcal{L}(w,b,\\epsilon, a,r) = \\frac{1}{2}{ \\|w\\|_2^2} + C\\sum_i\\epsilon_i - { \\|w\\|_2^2}  + \\sum_i\\alpha_i(1-\\epsilon_i) - \\sum_i r_i \\epsilon_i$\n",
    "<br>\n",
    "<br>\n",
    "$\\mathcal{L}(w,b,\\epsilon, a,r) = -\\frac{1}{2}{ \\|w\\|_2^2} + C\\sum_i\\epsilon_i   + \\sum_i\\alpha_i-\\sum_i\\alpha_i\\epsilon_i - \\sum_i r_i \\epsilon_i$\n",
    "<br>\n",
    "<br>\n",
    "$\\mathcal{L}(w,b,\\epsilon, a,r) = -\\frac{1}{2}{ \\|w\\|_2^2} + C\\sum_i\\epsilon_i   + \\sum_i\\alpha_i-\\sum_i (\\alpha_i+  r_i) \\epsilon_i$\n",
    "<br>\n",
    "<br>\n",
    "$\n",
    "\\begin{align}\n",
    "\\mathcal{L}(w,b,\\epsilon, a,r) &= -\\frac{1}{2}{ \\|w\\|_2^2}  + \\sum_i\\alpha_i \\\\\n",
    "                               &=  -\\frac{1}{2}\\sum_{j=1}^p\\lambda_j^2 + \\sum_i\\alpha_i \\\\\n",
    "                               &=-\\frac{1}{2}\\sum_{j=1}^p\\bigg({\\sum_{i=1}^n \\alpha_iy_ix_{ij}}\\bigg)^2 + \\sum_i\\alpha_i \\\\\n",
    "                               &=-\\frac{1}{2}\\sum_{j=1}^p\\sum_{i=1}^n\\sum_{k=1}^n\\alpha_i\\alpha_k y_i  y_k x_{ij} x_{kj} + \\sum_i\\alpha_i\n",
    "\\end{align}\n",
    "$\n",
    "<br>\n",
    "<br>\n",
    "\n"
   ]
  },
  {
   "cell_type": "markdown",
   "metadata": {},
   "source": [
    "$r_i \\geq 0, C = \\alpha + r_i$  so $\\alpha < C$"
   ]
  },
  {
   "cell_type": "markdown",
   "metadata": {},
   "source": [
    "$\\mathcal{L}(\\alpha) =-\\frac{1}{2}\\sum_{j=1}^p\\sum_{i=1}^n\\sum_{k=1}^n\\alpha_i\\alpha_k y_i  y_k x_{ij} x_{kj} + \\sum_i\\alpha_i \\ \\ \\ \\ \\ s.t \\begin{cases} 0 \\leq \\alpha_i \\leq C \\\\ \\sum_i \\alpha y_i = 0\\end{cases}$  "
   ]
  },
  {
   "cell_type": "markdown",
   "metadata": {},
   "source": [
    "### 3.2 Answer"
   ]
  },
  {
   "cell_type": "markdown",
   "metadata": {},
   "source": [
    "complementary slackness shows that:\n",
    "$$\n",
    "\\alpha_i\\left[(1-\\epsilon_i)  - y_i(w^Tx_i + b)\\right]  = 0 \n",
    "$$\n",
    "If $\\alpha$ is non-zero, then we have:\n",
    "$$\n",
    "(1-\\epsilon_i)  - y_i(w^Tx_i + b) = 0 \n",
    "$$\n",
    "<br>\n",
    "$$\n",
    "y_i(w^Tx_i + b) = 1-\\epsilon_i \n",
    "$$\n",
    "<br>\n",
    "Because $\\epsilon \\geq 0 $, it is intuitively true that: \n",
    "$$\n",
    "y_i(w^Tx_i + b) \\leq 1\n",
    "$$\n"
   ]
  },
  {
   "cell_type": "markdown",
   "metadata": {},
   "source": [
    "### 3.3 Answer"
   ]
  },
  {
   "cell_type": "code",
   "execution_count": 1,
   "metadata": {},
   "outputs": [],
   "source": [
    "import pandas as pd\n",
    "import numpy as np \n",
    "from sklearn.model_selection import train_test_split \n",
    "from sklearn.preprocessing import normalize\n",
    "data = pd.read_csv('messidor.csv').values\n",
    "training_x,testing_x,training_y,testing_y =train_test_split(data[:,:-1],data[:,-1:], test_size=0.4,random_state = 32)"
   ]
  },
  {
   "cell_type": "markdown",
   "metadata": {},
   "source": [
    "### 3.4 Answer"
   ]
  },
  {
   "cell_type": "code",
   "execution_count": 118,
   "metadata": {},
   "outputs": [
    {
     "name": "stdout",
     "output_type": "stream",
     "text": [
      "training_accuracy is 0.523\n",
      "testing_accuracy is 0.542\n",
      "the weights are [[ 3.00000000e-20 -1.50000000e-19  4.06600000e-17  3.44000000e-17\n",
      "   2.86000000e-17  2.19900000e-17  1.69500000e-17  1.16500000e-17\n",
      "   7.18046157e-18 -5.74552789e-18 -2.25135960e-19  1.84998684e-18\n",
      "   1.79819602e-18  9.28043010e-19  4.34370770e-19  1.94914440e-19\n",
      "   1.60247000e-21 -9.53390000e-22 -1.20000000e-19]]\n"
     ]
    }
   ],
   "source": [
    "from sklearn.svm import SVC\n",
    "sv = SVC(kernel = 'linear', C= 1e-20)\n",
    "sv.fit(training_x,training_y.ravel()) \n",
    "train_accuracy = sv.score(training_x,training_y.ravel())\n",
    "test_accuracy = sv.score(testing_x,testing_y.ravel())\n",
    "weights = sv.coef_ \n",
    "print('training_accuracy is %0.3f' %(train_accuracy))\n",
    "print('testing_accuracy is %0.3f' %(test_accuracy))\n",
    "print('the weights are', weights)"
   ]
  },
  {
   "cell_type": "markdown",
   "metadata": {},
   "source": [
    "### 3.5 Answer"
   ]
  },
  {
   "cell_type": "code",
   "execution_count": 127,
   "metadata": {},
   "outputs": [],
   "source": [
    "Cs = [1e-7, 0.0001, 0.001, 0.01, 0.1, 1, 10, 100, 1000]\n",
    "error = []\n",
    "for C in Cs:\n",
    "    sum = 0\n",
    "    sv = SVC(kernel = 'linear', C=C)\n",
    "    sv.fit(training_x,training_y.ravel()) \n",
    "    predictions = sv.predict(training_x)\n",
    "    weights = sv.coef_\n",
    "    i = 0\n",
    "    for prediction in predictions:\n",
    "        if training_y[i] != prediction:\n",
    "            sum += prediction/np.linalg.norm(weights)\n",
    "        i+=1\n",
    "    error.append(sum)"
   ]
  },
  {
   "cell_type": "code",
   "execution_count": 143,
   "metadata": {},
   "outputs": [
    {
     "data": {
      "image/png": "[encoded data removed]",
      "text/plain": [
       "<Figure size 432x288 with 1 Axes>"
      ]
     },
     "metadata": {
      "needs_background": "light"
     },
     "output_type": "display_data"
    }
   ],
   "source": [
    "logcs = np.log(Cs)\n",
    "logerror = np.log(error)\n",
    "plt.plot(logcs, logerror)\n",
    "plt.xticks(logcs)\n",
    "plt.xlabel('C from [0,1000] in log scale')\n",
    "plt.ylabel('training error in log scale')\n",
    "plt.title('training errors Vs. different Cs')\n",
    "plt.show()"
   ]
  },
  {
   "cell_type": "markdown",
   "metadata": {},
   "source": [
    "Observation: The training error becomes smaller when C gets larger. This is because for the non-seperable, if we do not add a large C, it will tend to seperate the points with big margins but there are mistakes. Therefore, once we add the large C, we get less error on the training set because we try to make it become the seperable case with smaller margin.   "
   ]
  },
  {
   "cell_type": "markdown",
   "metadata": {},
   "source": [
    "### 3.6 Answer"
   ]
  },
  {
   "cell_type": "code",
   "execution_count": 144,
   "metadata": {},
   "outputs": [],
   "source": [
    "Cs = [1e-7, 0.0001, 0.001, 0.01, 0.1, 1, 10, 100, 1000]\n",
    "accuracy = []\n",
    "for C in Cs:\n",
    "    sv = SVC(kernel = 'linear', C=C)\n",
    "    sv.fit(training_x,training_y.ravel()) \n",
    "    test_accuracy= sv.score(testing_x,testing_y.ravel())\n",
    "    accuracy.append(test_accuracy)"
   ]
  },
  {
   "cell_type": "code",
   "execution_count": 158,
   "metadata": {},
   "outputs": [
    {
     "data": {
      "image/png": "[encoded data removed]",
      "text/plain": [
       "<Figure size 432x288 with 1 Axes>"
      ]
     },
     "metadata": {
      "needs_background": "light"
     },
     "output_type": "display_data"
    },
    {
     "name": "stdout",
     "output_type": "stream",
     "text": [
      "the optimal C is 0.7245119305856833\n"
     ]
    }
   ],
   "source": [
    "plt.plot(np.log(Cs), accuracy)\n",
    "plt.xticks(logcs)\n",
    "plt.xlabel('C from [0,1000] in log scale')\n",
    "plt.ylabel('testing accuracy')\n",
    "plt.title('testing accuracy Vs. different Cs')\n",
    "plt.show()\n",
    "print('the optimal C is', max(accuracy))"
   ]
  },
  {
   "cell_type": "markdown",
   "metadata": {},
   "source": [
    "For the testing part, once we start to make c bigger, it will try to find a solution for this non-separable case. Therefore, the accuracy will increase under the growing of c. However, once the c increases the optimal value, the model start to overfit because it tries to fit everything in the training set by sacrificing the margin of the support vectors, therefore, we will have a little drop on the testing accuracy. "
   ]
  },
  {
   "cell_type": "markdown",
   "metadata": {},
   "source": [
    "### 3.7 Answer"
   ]
  },
  {
   "cell_type": "code",
   "execution_count": 20,
   "metadata": {},
   "outputs": [],
   "source": [
    "from sklearn.svm import SVC\n",
    "from sklearn.preprocessing import normalize\n",
    "## choose the optimal C =1 \n",
    "degree = [0, 1, 2, 3, 4, 5, 6]\n",
    "test_accuracy = []\n",
    "train_accuracy = []\n",
    "for d in degree:\n",
    "    sv = SVC(kernel = 'poly', degree=d, C=1, gamma='auto')\n",
    "    sv.fit(normalize(training_x),training_y.ravel()) \n",
    "    te_accuracy= sv.score(normalize(testing_x),testing_y.ravel())\n",
    "    tr_accuracy = sv.score(normalize(training_x),training_y.ravel())\n",
    "    test_accuracy.append(te_accuracy)\n",
    "    train_accuracy.append(tr_accuracy)"
   ]
  },
  {
   "cell_type": "code",
   "execution_count": 19,
   "metadata": {},
   "outputs": [
    {
     "data": {
      "image/png": "[encoded data removed]",
      "text/plain": [
       "<Figure size 432x288 with 1 Axes>"
      ]
     },
     "metadata": {
      "needs_background": "light"
     },
     "output_type": "display_data"
    }
   ],
   "source": [
    "import matplotlib.pyplot as plt\n",
    "plt.plot(degree, train_accuracy, label='training accuracy vs. degree')\n",
    "plt.plot(degree,test_accuracy,label='testing accuracy vs. degree')\n",
    "plt.xticks(degree)\n",
    "plt.xlabel('degrees')\n",
    "plt.ylabel('accuracy')\n",
    "plt.title('testing and training accuracy Vs. different degrees')\n",
    "plt.legend()\n",
    "plt.show()\n"
   ]
  },
  {
   "cell_type": "markdown",
   "metadata": {},
   "source": [
    "## 4. Kernels"
   ]
  },
  {
   "cell_type": "markdown",
   "metadata": {},
   "source": [
    "### 4.1 Answer"
   ]
  },
  {
   "cell_type": "markdown",
   "metadata": {},
   "source": [
    "According to the representer theorm:\n",
    "$f* = \\sum_i \\alpha_i K$"
   ]
  },
  {
   "cell_type": "markdown",
   "metadata": {},
   "source": [
    "### 4.2 Answer"
   ]
  },
  {
   "cell_type": "markdown",
   "metadata": {},
   "source": [
    "### a. $k(x,z) = \\alpha k_1(x,z) + \\beta k_2(x,z)$ for $\\alpha,\\beta \\geq 0$ "
   ]
  },
  {
   "cell_type": "markdown",
   "metadata": {},
   "source": [
    "Becase $k_1$ and $k_2$ are valid kernels, therefore they both have their feature $\\Phi_1$ and $\\Phi_2$ , inner product $\\big<\\big>_{H_{k_1}}$ and $\\big<\\big>_{H_{k_2}}$ \n",
    "<br>\n",
    "<br>\n",
    "therefore, we can expand $\\alpha k_1(x,z)$ into $\\alpha k_1(x,z) = \\big<\\sqrt{\\alpha}\\  \\Phi_1(x), \\sqrt{\\alpha}\\  \\Phi_1(z)\\big>_{H_{k_1}}$\n",
    "<br>\n",
    "<br>\n",
    "expand $\\beta k_2(x,z)$ into $\\beta k_2(x,z) = \\big<\\sqrt{\\beta}\\  \\Phi_2(x), \\sqrt{\\beta}\\  \\Phi_2(z)\\big>_{H_{k_2}}$\n",
    "<br>\n",
    "<br>\n",
    "Therefore, we have \n",
    "<br>\n",
    "<br>\n",
    "$\n",
    "\\begin{align}\n",
    "k(x,z) &= \\alpha k_1(x,z) + \\beta k_2(x,z)  \\\\\n",
    "       &= \\big<\\sqrt{\\alpha}\\  \\Phi_1(x), \\sqrt{\\alpha}\\  \\Phi_1(z)\\big>_{H_{k_1}} + \\big<\\sqrt{\\beta}\\  \\Phi_2(x), \\sqrt{\\beta}\\  \\Phi_2(z)\\big>_{H_{k_2}}  \\\\\n",
    "       &= \\big<\\left[\\sqrt{\\alpha}\\Phi_1(x), \\sqrt{\\beta}\\Phi_2(x)\\right],\\left[\\sqrt{\\alpha}\\Phi_1(z), \\sqrt{\\beta}\\Phi_2(z)\\right]\\big>_{H_{new}}\n",
    "\\end{align}\n",
    "$"
   ]
  },
  {
   "cell_type": "markdown",
   "metadata": {},
   "source": [
    "Since $k(x,z)$ can be written in the form of an inner product, so it is proved to be a valid kernel"
   ]
  },
  {
   "cell_type": "markdown",
   "metadata": {},
   "source": [
    "### b. $k(x,z) = k_1(x,z)k_2(x,z)$\n"
   ]
  },
  {
   "cell_type": "markdown",
   "metadata": {},
   "source": [
    "Based on the Mercer's Theorem, \n",
    "<br>\n",
    "<br>\n",
    "$k_1(x,z) = \\sum_{i=1}^{\\infty} \\lambda_i \\phi_i(x) \\phi_i(z)$\n",
    "<br>\n",
    "$k_2(x,z) = \\sum_{j=1}^{\\infty} \\lambda_j \\psi_j(x) \\psi_j(z)$\n",
    "<br>\n",
    "<br>\n",
    "$\n",
    "\\begin{split}\n",
    "k(x,z) &= k_1(x,z)k_2(x,z) \\\\\n",
    "       &= \\sum_{i=1}^{\\infty} \\lambda_i \\phi_i(x) \\phi_i(z)\\sum_{j=1}^{\\infty} \\lambda_j \\psi_j(x) \\psi_j(z) \\\\\n",
    "       &= \\sum_{i=1}^{\\infty}\\sum_{j=1}^{\\infty} \\lambda_i  \\lambda_j \\left[\\phi_i(x)\\psi_j(x)\\right]\\left[\\phi_i(z)\\psi_j(z)\\right] \\\\\n",
    "       &=\\sum_{i,j}^{\\infty} \\lambda_i  \\lambda_j \\left[\\phi_i(x)\\psi_j(x)\\right]\\left[\\phi_i(z)\\psi_j(z)\\right]\n",
    "\\end{split}\n",
    "$\n",
    "<br>\n",
    "<br>\n",
    "So, use the Mercer's Therorem backwards again, we have:\n",
    "<br>\n",
    "<br>\n",
    "$\n",
    "k(x,z) = \\sum_p \\kappa_p \\Omega_p(x) \\Omega_p(z) , \\text{ where } \\kappa = \\lambda_i\\lambda_j \\Omega(x)=\\phi_i(x)\\psi_j(x) \\ \\ \\ \\Omega(z)=\\phi_i(z)\\psi_j(z)\n",
    "$\n",
    "<br>\n",
    "Therefore, $k(x,z)$ is a valid kernel "
   ]
  },
  {
   "cell_type": "markdown",
   "metadata": {},
   "source": [
    "### c. $k(x,z) = f(x)f(z)$ for $f:\\mathcal{X}\\to \\mathbb{R}$\n"
   ]
  },
  {
   "cell_type": "markdown",
   "metadata": {},
   "source": [
    "$k(x,z) = f(x)f(z) = f(z)f(x) = k(z,x)$\n",
    "<br>\n",
    "<br>\n",
    "So k is symmetric\n",
    "Given $x_i$ and $z_i$, define vector $\\mathbf{f} =(f(x_1), ... f(x_n)),\\mathbf{f} =(f(z_1), ... f(z_n))$\n",
    "<br>\n",
    "$$\n",
    "\\mathbf{K} = \\mathbf{f}\\mathbf{f}^T\n",
    "$$\n",
    "for any vector $v$, we have:\n",
    "$$\n",
    "v^T\\mathbf{K}v = (v^Tf)^2 \\geq 0\n",
    "$$\n",
    "<br>\n",
    "so K is positive definite\n",
    "<br>\n",
    "Then we have a Gramian matrix, and each entry is a inner product of $f(x_n)f(z_n)$ so $k(x,z)$ is a valid kernel. "
   ]
  },
  {
   "cell_type": "markdown",
   "metadata": {},
   "source": [
    "### d. $k(x,z) = f(k_1(x,z))$ for $f$ a polynomial with positive cofficients"
   ]
  },
  {
   "cell_type": "markdown",
   "metadata": {},
   "source": [
    "By proving a and b, we have:\n",
    "$$k(x,z) = \\alpha k_1(x,z) + \\beta k_2(x,z) \\\\\n",
    "k(x,z) = k_1(x,z)k_2(x,z) \n",
    "$$\n"
   ]
  },
  {
   "cell_type": "markdown",
   "metadata": {},
   "source": [
    "Since f is a polynomial with postive cofficients, each term would have the form either be $\\alpha k_1(x,z)$ , $\\alpha k_1(x,z)k_2(x,z)$ or constant (positive as specified in the prompt), and thanks to the proof from a and b. Any linear combination for  $\\alpha k_1(x,z)$ and $\\alpha k_1(x,z)k_2(x,z)$ and constants would be vaild kernel."
   ]
  },
  {
   "cell_type": "markdown",
   "metadata": {},
   "source": [
    "### e. $k(x,z) = e^{-\\alpha||x-z||_2^2}$"
   ]
  },
  {
   "cell_type": "markdown",
   "metadata": {},
   "source": [
    "$\n",
    "\\begin{split}\n",
    "k(x,z) &= e^{-\\alpha||x-z||_2^2}  \\\\\n",
    "       &= e^{-\\alpha(||x||_2^2 + ||z||_2^2 - 2x^Tz)}\n",
    "       &=e^{-\\alpha||x||_2^2}e^{(-\\alpha||z||_2^2)}e^{(2\\alpha x^Tz)}\n",
    "\\end{split}\n",
    "$"
   ]
  },
  {
   "cell_type": "markdown",
   "metadata": {},
   "source": [
    "let $g(x) =e^{-\\alpha||x||_2^2}$ and $g(z) =e^{(-\\alpha||z||_2^2)} $, therefore:\n",
    "$\n",
    "g(x)g(z) \n",
    "$\n",
    "is a valid kernel proved in c. \n",
    "$x^Tz$ is an inner product, so it is a kernel. Then: $2\\alpha x^Tz  =\\alpha x^Tz + \\alpha x^Tz$ given by the proof 1, is  also a valid kernel. \n",
    "<br>\n",
    "Because $e^x  = lim_{i\\rightarrow\\infty}\\left(1 + x + \\frac{x^2}{2!} + \\cdots +  \\frac{x^n}{n!}\\right)$\n",
    "<br>\n",
    "we have: $e^{k_1(x,z)} = lim_{i\\rightarrow\\infty}\\left(1 + k_1(x,z) + \\frac{k_1(x,z)^2}{2!} + \\cdots +  \\frac{k_1(x,z)^n}{n!}\\right)$\n",
    "<br>\n",
    "combine proof $a$ and $b$ we have $e^{k_1(x,z)}$ is also a valid kernel\n",
    "<br>\n",
    "So we have: $e^{(2\\alpha x^Tz)}$ is also a valid kernel\n",
    "In conclusion:\n",
    "$\n",
    "e^{-\\alpha||x||_2^2}e^{(-\\alpha||z||_2^2)}e^{(2\\alpha x^Tz)}\n",
    "$ is just the multiplication of two kernels, so according to proof c. It is a valid kernel."
   ]
  },
  {
   "cell_type": "code",
   "execution_count": null,
   "metadata": {},
   "outputs": [],
   "source": []
  }
 ],
 "metadata": {
  "kernelspec": {
   "display_name": "Python 2",
   "language": "python",
   "name": "python2"
  },
  "language_info": {
   "codemirror_mode": {
    "name": "ipython",
    "version": 2
   },
   "file_extension": ".py",
   "mimetype": "text/x-python",
   "name": "python",
   "nbconvert_exporter": "python",
   "pygments_lexer": "ipython2",
   "version": "2.7.15"
  }
 },
 "nbformat": 4,
 "nbformat_minor": 2
}
