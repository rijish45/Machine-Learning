{
 "cells": [
  {
   "cell_type": "markdown",
   "metadata": {},
   "source": [
    "## 1. Maximum Entropy Configuration"
   ]
  },
  {
   "cell_type": "markdown",
   "metadata": {},
   "source": [
    "### 1.a"
   ]
  },
  {
   "cell_type": "markdown",
   "metadata": {},
   "source": [
    "<font size=3.5>\n",
    "For coin 1: $H(\\mathbf{p}) = - (0.5 \\cdot \\log_2{0.5} +0.5 \\cdot \\log_2{0.5}) = 1 $\n",
    "<br>\n",
    "For coin 2: $H(\\mathbf{p}) = - (0.7 \\cdot \\log_2{0.7} +0.3 \\cdot \\log_2{0.3}) = 0.8813 $\n",
    "<br>\n",
    "For coin 3: $H(\\mathbf{p}) = - (0.1 \\cdot \\log_2{0.1} +0.9 \\cdot \\log_2{0.9}) = 0.4690 $\n",
    "<br>\n",
    "<br>\n",
    "So, the first coin has greatest entropy\n",
    "<font>\n",
    "   \n",
    "   "
   ]
  },
  {
   "cell_type": "markdown",
   "metadata": {},
   "source": [
    "### 1.b"
   ]
  },
  {
   "cell_type": "markdown",
   "metadata": {},
   "source": [
    "<font size=3.5>\n",
    "Given\n",
    "$H(\\mathbf{p}) = -\\displaystyle\\sum_{i=1}^{n} P(x)\\log_2{(P(x))} \\\\\n",
    "\\ \\ \\ \\ \\ \\ \\ \\ \\ =\\mathbb{E}\\begin{bmatrix}\\log_2{(1/P(X))}\\end{bmatrix}\n",
    "$\n",
    "<br>\n",
    "<br>\n",
    "$\\log_2{x}$ is a concave function, then $-\\log_2{x} $ is a convex function: \n",
    "<br>\n",
    "<br>\n",
    "Proof:\n",
    "<br>\n",
    "<br>\n",
    "$\\cfrac{ d^2}{ dx^2}(-\\log_2{x}) = \\cfrac{1}{ x^2\\log{(2)}} > 0$\n",
    "<br>\n",
    "According to Jensen's Inequality: $-\\log_2{(\\mathbb{E}[X])} \\leq \\mathbb{E}\\begin{bmatrix}-\\log_2{(X\n",
    ")}\\end{bmatrix} \\implies \\mathbb{E}\\begin{bmatrix}\\log_2{(X\n",
    ")}\\end{bmatrix}\\leq\\log_2{(\\mathbb{E}[X])}  $\n",
    "<br>\n",
    "<br>\n",
    "then, $H(\\mathbf{p})  =\\mathbb{E}\\begin{bmatrix}\\log_2{(1/P(X))}\\end{bmatrix} \\leq \\log_2{(\\mathbb{E}[1/P(X)])}= \\log_2 \\displaystyle \\sum_{i=1}^n P(x_i) * 1/P(x_i) = \\log_2 \\displaystyle \\sum_{i=1}^n 1 = \\log_2{n}$\n",
    "<br>\n",
    "<br>\n",
    "Therefore, the maximum entropy will be find at $H(\\mathbf{p}) = \\log{n} $\n",
    "</font>\n",
    "\n",
    "    "
   ]
  },
  {
   "cell_type": "markdown",
   "metadata": {},
   "source": [
    "### 1.c"
   ]
  },
  {
   "cell_type": "markdown",
   "metadata": {},
   "source": [
    "<font size=3.5>\n",
    "$\n",
    "\\begin{split}\n",
    "H(g(x)) &= -\\int\\limits_{-\\infty}^{+\\infty} g(x)log(g(x))dx \\\\\n",
    "        &= -\\int\\limits_{-\\infty}^{+\\infty} \\frac{1}{\\sqrt{2\\pi\\sigma^2}}e^{-\\frac{(x-\\mu)^2}{2\\sigma^2}}\\cdot log(\\frac{1}{\\sqrt{2\\pi\\sigma^2}}e^{-\\frac{(x-\\mu)^2}{2\\sigma^2}}) dx \\\\\n",
    "        &=-\\int\\limits_{-\\infty}^{+\\infty} \\frac{1}{\\sqrt{2\\pi\\sigma^2}}e^{-\\frac{(x-\\mu)^2}{2\\sigma^2}} \\cdot (log(\\frac{1}{\\sqrt{2\\pi\\sigma^2}}) + log(e^{-\\frac{(x-\\mu)^2}{2\\sigma^2}}))dx \\\\\n",
    "        &= -\\int\\limits_{-\\infty}^{+\\infty} \\frac{1}{\\sqrt{2\\pi\\sigma^2}}e^{-\\frac{(x-\\mu)^2}{2\\sigma^2}} \\cdot log\\frac{1}{\\sqrt{2\\pi\\sigma^2}}dx  -\\int\\limits_{-\\infty}^{+\\infty} \\frac{1}{\\sqrt{2\\pi\\sigma^2}}e^{-\\frac{(x-\\mu)^2}{2\\sigma^2}}\\cdot log(e^{-\\frac{(x-\\mu)^2}{2\\sigma^2}})dx \\\\\n",
    "        &=-log\\frac{1}{\\sqrt{2\\pi\\sigma^2}} \\int\\limits_{-\\infty}^{+\\infty} \\frac{1}{\\sqrt{2\\pi\\sigma^2}}e^{-\\frac{(x-\\mu)^2}{2\\sigma^2}}dx - \\int\\limits_{-\\infty}^{+\\infty} -\\frac{1}{\\sqrt{2\\pi\\sigma^2}}e^{-\\frac{(x-\\mu)^2}{2\\sigma^2}}\\frac{(x-\\mu)^2}{2\\sigma^2} dx \\\\\n",
    "        &=-log\\frac{1}{\\sqrt{2\\pi\\sigma^2}}(1) + \\frac{1}{2\\sigma^2}\\int\\limits_{-\\infty}^{+\\infty} \\frac{1}{\\sqrt{2\\pi\\sigma^2}}e^{-\\frac{(x-\\mu)^2}{2\\sigma^2}}(x-\\mu)^2 dx \\\\\n",
    "        &=-log\\frac{1}{\\sqrt{2\\pi\\sigma^2}} + \\frac{1}{2\\sigma^2}E[(x-\\mu)^2] \\\\\n",
    "        &=-log\\frac{1}{\\sqrt{2\\pi\\sigma^2}} + \\frac{1}{2\\sigma^2}\\text{Var}[x] \\\\\n",
    "        &=-log\\frac{1}{\\sqrt{2\\pi\\sigma^2}} + \\frac{1}{2\\sigma^2}\\cdot \\sigma^2 \\\\\n",
    "         &=-log\\frac{1}{\\sqrt{2\\pi\\sigma^2}} + \\frac{1}{2} \\\\ \n",
    "\\end{split}\n",
    "$\n",
    "<br>\n",
    "<br>\n",
    "In addition: \n",
    "<br>\n",
    " $\n",
    " \\begin{split}\n",
    " -\\int_{-\\infty}^{\\infty}{f(x)log(g(x))dx} &=  -\\int_{-\\infty}^{\\infty}{f(x)log(\\frac{1}{\\sqrt{2\\pi\\sigma^2}}e^{-\\frac{(x-\\mu)^2}{2\\sigma^2}})dx} \\\\\n",
    "                                           &= -\\int_{-\\infty}^{\\infty}f(x)(log(\\frac{1}{\\sqrt{2\\pi\\sigma^2}}) + log(e^{-\\frac{(x-\\mu)^2}{2\\sigma^2}}))dx  \\\\\n",
    "                                           &=-\\int\\limits_{-\\infty}^{+\\infty} f(x) \\cdot log\\frac{1}{\\sqrt{2\\pi\\sigma^2}}dx  -\\int\\limits_{-\\infty}^{+\\infty} f(x)\\cdot log(e^{-\\frac{(x-\\mu)^2}{2\\sigma^2}})dx \\\\\n",
    "                                           &=-log\\frac{1}{\\sqrt{2\\pi\\sigma^2}} \\int\\limits_{-\\infty}^{+\\infty} f(x)dx - \\int\\limits_{-\\infty}^{+\\infty} -f(x)\\frac{(x-\\mu)^2}{2\\sigma^2} dx \\\\\n",
    "                                           &=-log\\frac{1}{\\sqrt{2\\pi\\sigma^2}}(1) +\\frac{1}{2\\sigma^2}\\int\\limits_{-\\infty}^{+\\infty} f(x){(x-\\mu)^2} dx  \\\\\n",
    "                                           &=-log\\frac{1}{\\sqrt{2\\pi\\sigma^2}} +\\frac{1}{2\\sigma^2} E[(x-\\mu)^2] \\\\\n",
    "                                           &=-log\\frac{1}{\\sqrt{2\\pi\\sigma^2}} + \\frac{1}{2\\sigma^2} \\text{Var}[x] \\\\\n",
    "                                           &=-log\\frac{1}{\\sqrt{2\\pi\\sigma^2}} + \\frac{1}{2\\sigma^2} \\sigma^2 \\\\\n",
    "                                           &=-log\\frac{1}{\\sqrt{2\\pi\\sigma^2}} + \\frac{1}{2}\n",
    " \\end{split}\n",
    " $\n",
    " <br>\n",
    " <br>\n",
    " Therefore: \n",
    " <br>\n",
    " $\n",
    " H(g(x)) = -\\int_{-\\infty}^{\\infty}{f(x)log(g(x))dx} = -log\\frac{1}{\\sqrt{2\\pi\\sigma^2}} + \\frac{1}{2}\n",
    " $\n",
    " <br>\n",
    " $\n",
    "\\begin{split}\n",
    "H(g(x)) - H(f(x)) &= -\\int_{-\\infty}^{\\infty}{f(x)log(g(x))dx}  + \\int_{-\\infty}^{\\infty}{f(x)log(f(x))dx} \\\\\n",
    "                  &=-(\\int_{-\\infty}^{\\infty}{f(x)log(g(x))dx}  - \\int_{-\\infty}^{\\infty}{f(x)log(f(x))dx}) \\\\\n",
    "                  &=-(\\int_{-\\infty}^{\\infty}(f(x)log(g(x)) - f(x)log(f(x))dx)\\\\\n",
    "                  &=\\int_{-\\infty}^{\\infty}f(x)(-log\\frac{g(x)}{f(x)})dx\n",
    "\\end{split}\n",
    " $\n",
    " <br>\n",
    " <br>\n",
    " As proved in 1.b, $\\phi(x)=-logx$ is a convex function and we can use the Jensen's inequality:\n",
    " <br>\n",
    " <br>\n",
    " $\n",
    " \\int_{-\\infty}^{\\infty}f(x)(-log\\frac{g(x)}{f(x)})dx \\geq -log(\\int_{-\\infty}^{\\infty}f(x)\\frac{g(x)}{f(x)}dx)\\geq\n",
    " -log(\\int_{-\\infty}^{\\infty}{g(x)}dx) \\geq -log(1) \\geq 0 \\\\\n",
    " \\Rightarrow  H(g(x)) \\geq H(f(x))\n",
    " $\n",
    " <br>\n",
    " <br>\n",
    " Therefore,Gaussian distribution gives the maximum differential entropy among all arbitrary probability density functions $f(x)$ \n",
    "<font>"
   ]
  },
  {
   "cell_type": "markdown",
   "metadata": {},
   "source": [
    "## 2. Bias and Variance"
   ]
  },
  {
   "cell_type": "markdown",
   "metadata": {},
   "source": [
    "### 2.a"
   ]
  },
  {
   "cell_type": "markdown",
   "metadata": {},
   "source": [
    "<font size = 3.5>\n",
    "$\n",
    "\\begin{split}\n",
    "E[(y-\\hat{f}(x))^2] &=  E[(y- E[\\hat{f}(x)] + E[\\hat{f}(x)] - \\hat{f}(x))^2] \\\\\n",
    "                    &= E[(y- E[\\hat{f}(x)])^2 + (E[\\hat{f}(x)] - \\hat{f}(x))^2 + 2(y-E[\\hat{f}(x)])\\cdot(E[\\hat{f}(x)] - \\hat{f}(x))]\\\\\n",
    "                    &=E[(y- E[\\hat{f}(x)])^2] + E[(E[\\hat{f}(x)] - \\hat{f}(x))^2] + 2E[y-E[\\hat{f}(x)]]\\cdot E[E[\\hat{f}(x)] - \\hat{f}(x)]\\\\\n",
    "                    &=E[(y- E[\\hat{f}(x)])^2] + E[(E[\\hat{f}(x)] - \\hat{f}(x))^2] + 2E[y-E[\\hat{f}(x)]]\\cdot (E[\\hat{f}(x)] - E[\\hat{f}(x)]) \\\\\n",
    "                    &=E[(y- E[\\hat{f}(x)])^2] + E[(E[\\hat{f}(x) -\\hat{f}(x))^2 ]\\\\\n",
    "                    &=\\underbrace{E[(y- E[\\hat{f}(x)])^2]}_{\\Downarrow} + \\text{Var}[\\hat{f}(x)] \\ \\ \\ \\ \\ \\ \\ \\ \\  \\ \\ \\ \\ \\ \\ \\  \\ \\ \\ \\ \\ \\ \\ \\ (\\text{for Var}[\\hat{f}(x)]=E[(\\hat{f}(x)-E[\\hat{f}(x)])^2])\\\\\n",
    "                    &\\ \\ \\ \\  \\ E[(y-f(x)+f(x)-E[\\hat{f}(x)])^2] \\\\\n",
    "                    &= E[(y-f(x))^2 + (f(x)-E[\\hat{f}(x)])^2 + 2(y-f(x)) \\cdot (f(x)-E[\\hat{f}(x)])]\\\\\n",
    "                    &=E[(y-f(x))^2]+ E[(f(x)-E[\\hat{f}(x)])^2] + 2\\underbrace{E[y-f(x)]}_{E[\\epsilon] = 0}\\cdot E[f(x)-E[\\hat{f}(x)])]\\\\\n",
    "                    &=E[(y-f(x))^2]+ E[(f(x)-E[\\hat{f}(x)])^2] \\\\\n",
    "                    &=E[\\epsilon^2] +(f(x) - E[\\hat{f}(x)])^2 \\ \\ \\ \\ \\ \\ \\ \\ \\  \\ \\ \\ \\ \\ \\ \\  \\ \\ \\ \\ \\ \\ \\ \\ (\\text{for } f(x) \\text{ and }E[\\hat{f}(x)] \\text{ are deterministic}  )\\\\\n",
    "                    &=\\text{Var}[\\epsilon] + (E[\\epsilon])^2 + (E[f(x)- E[\\hat{f}(x)])^2\\ \\ \\ \\ \\ \\ \\ \\ \\  \\ \\ \\ \\ \\ \\ \\  \\ \\ \\ \\ \\ \\ \\ \\ (\\text{for } f(x) \\text{ is deterministic}) \\\\\n",
    "                    &=\\sigma^2 + 0 + (E[\\hat{f}(x)] - E[f(x)])^2 \\\\\n",
    "                    &=\\sigma^2 + (E[\\hat{f}(x) - f(x)]) ^2 \\\\\n",
    "                    &=\\sigma^2 + (\\text{Bias}[\\hat{f}(x)])^2 \\\\  \n",
    "                    \\\\\n",
    "\\text{Therefore, } E[(y-\\hat{f}(x))^2] &=  (\\text{Bias}[\\hat{f}(x)])^2 +\\text{Var}[\\hat{f}(x)]+\\sigma^2 \n",
    "\\end{split}\n",
    "$\n",
    "</font>"
   ]
  },
  {
   "cell_type": "markdown",
   "metadata": {},
   "source": [
    "### 2.b"
   ]
  },
  {
   "cell_type": "markdown",
   "metadata": {},
   "source": [
    "<font size = 3.5>\n",
    "Assume n = 1, $x_1$ forms up a tree with only one level on depth because no matter what spliting algorithm we use for growing the decision tree, once the node only contains one class, the spliting will terminate; therefore, since only one data point exists, the very first feature we consider will contain the only data point which will also determine the resultant label of this node -- the label of $x_1$.In such case, when we test on the trainning, $x_1$ will fall into the node based on its first feature and get correctly labeled, thus the training error is zero. \n",
    "<br>\n",
    "<br>\n",
    "Things become different when n =2, if $x_2$ has the same feature values as $x_1$, it will eventually end up into the same leaf node as $x_1$, as metioned in the problem prompt, if two data points have the exactly same features, they will have the same kind of label (no collision). On the other hand, if $x_2$ has one or more different feature values, the tree starts to split and grow given the values of $x_2$. $x_2$ will has its own path of features and generate a different leaf node which contains itself. When we test on the training set, we will find $x_2$ will either goes into the same leaf node that $x_1$ goes or it will go into a different leaf node will generated by itself. If $x_2$ goes into the same leaf node as $x_1$ (given $x_2$ has all same feature values as $x_1$ ), it will be predicted as the same label as $x_1$, in such case the training error is zero. If it goes into the node generated by itself (given different feature values as $x_1$), it will be predicted the label in the leaf node it created itself. In such case, it will be predicted into the label which $x_2$ places itself at the time the tree created and of course it will get the correct label, the training error is zero. \n",
    "<br>\n",
    "<br>\n",
    "After talking about these two base cases, assume n= k, the training error is zero. when n = k+1, if $x_{k+1}$ has the same feature values as one (or more) data point(s) as before, $x_{k+1}$ would follow the same feature path to the leaf node which contains all the same feature values as $x_{k+1}$. Since when n = k, these data points in the that particluar leaf node are correctly classified and $x_{k+1}$ must have the same label with them because they share all the feature values, $x_{k+1}$ will also be correctly classified. If $x_{k+1}$ has one or more different feature value(s) from those points from $x_1$ to $x_k$, $x_{k+1}$ would end up into a leaf node created by itself. In that case, when test on $x_1$ to $x_{k+1}$ the first k $X$s would be correctly classified as we assume there are no training error, and $x_{k+1}$ would be end up into the correct leaf node as well following along the feature path, in that condition, the training error is zero. \n",
    "<br>\n",
    "<br>\n",
    "Therefore, by induction, we can tell there always existing a decision for data set with no data point colliding has 0 training error.\n",
    "</font>"
   ]
  },
  {
   "cell_type": "markdown",
   "metadata": {},
   "source": [
    "### 2.c"
   ]
  },
  {
   "cell_type": "markdown",
   "metadata": {},
   "source": [
    "<font size=3.5>\n",
    "Given:\n",
    "<br>\n",
    "$X_i$ has variance: $\\text{Var}[X_i] =\\sigma^2$,  For $i$ from $1,2,... N$\n",
    "<br>\n",
    "$X_i$ and $X_j$ has correlation $\\rho$, For $i \\neq j$\n",
    "<br>\n",
    "$\\bar X  = \\displaystyle \\sum_{i = 1}^{N} X_i $,  For $i$ from $1,2,... N$\n",
    "<br>\n",
    "Looking for $\\text{Var}[\\bar X].$\n",
    "<br>\n",
    "<br>\n",
    "Derivation：\n",
    "<br>\n",
    "$\n",
    "\\begin{split}\n",
    "\\text{Var}[\\bar X] &= \\text{Var}\\begin{bmatrix}\\cfrac{\\displaystyle \\sum_{i = 1}^{N}X_i}{N}\\end{bmatrix} \\\\\n",
    "                   &= \\cfrac{1}{N^2}\\text{Var}\\begin{bmatrix}\\displaystyle \\sum_{i = 1}^{N}X_i\\end{bmatrix} \\\\\n",
    "                   &= \\cfrac{1}{N^2}(\\displaystyle\\sum_{i = 1}^{N}\\text{Var}[X_i] + 2 \\displaystyle\\sum_{i \\neq j} \\text{Cov}(X_i,X_j))\n",
    "\\end{split} \\\\\n",
    "\\text{Cov}(X_i,X_j) = \\rho \\sqrt{\\strut Var[X_i]Var[X_j]} = \\rho\\sigma^2 \\\\\n",
    "\\displaystyle\\sum_{i \\neq j} \\text{Cov}(X_i,X_j) =  {N\\choose 2}\\rho\\sigma^2 = \\frac{N!}{2!(N-2)!} \\rho\\sigma^2 = \\frac{N(N-1)}{2}\\rho\\sigma^2\\\\\n",
    "\\begin{split}\n",
    "\\text{Var}[\\bar X] &= \\cfrac{1}{N^2}(\\displaystyle\\sum_{i = 1}^{N}\\text{Var}[X_i] + 2 \\displaystyle\\sum_{i \\neq j} \\text{Cov}(X_i,X_j)) \\\\\n",
    "                    &=\\cfrac{1}{N^2}(N\\sigma^2 + 2\\cdot \\frac{N(N-1)}{2}\\rho\\sigma^2) \\\\ \n",
    "                    &= \\cfrac{\\sigma^2}{N} + \\cfrac{N-1}{N}\\rho\\sigma^2\n",
    "\\end{split}\n",
    "$\n",
    "</font>"
   ]
  },
  {
   "cell_type": "markdown",
   "metadata": {},
   "source": [
    "### 2.d"
   ]
  },
  {
   "cell_type": "markdown",
   "metadata": {},
   "source": [
    "<font size = 3.5>\n",
    "    Insteading of using the entire data set as training set, Bagging will only use a certain percent of the overall data to train the model but in mupltile times, in such case, the variance in each subset of data will be smaller the variance of the entire sample data set. By doing so, when the sample set has noise inside it, using baggging would help to avoid overfitting the noisy data and gain more accuracy for the random forest which averaged the trained base models (decision tree).\n",
    "    <br>\n",
    "    Just like bagging for the sample set, using random subspaces would make the features randomly sampled which will reduce the correlation if we just train them on the random features instead of the entire feature set. By Looking into the equation derived from 2.c, the using small sample set would have smaller variance in between the data points and also using random subspace would reduce the correlation $\\rho$, therefore the variance of the averaged models would have very small variance. \n",
    " <br>\n",
    " By using decision tree, the nonlinear relationships between the variables will have less influence on the overall performance. In the most situation, the preprocess of data is not that important, we do not need to standardize the data first and construct the tree. Decision trees are easy to implement and understand; it classifies the data according to their attributes, then people could explicitly see how the classification works. \n",
    "<font>"
   ]
  },
  {
   "cell_type": "markdown",
   "metadata": {},
   "source": [
    "## 3. Variable Importance of Recidivism Predicction "
   ]
  },
  {
   "cell_type": "markdown",
   "metadata": {},
   "source": [
    "### 3.a"
   ]
  },
  {
   "cell_type": "code",
   "execution_count": 305,
   "metadata": {},
   "outputs": [],
   "source": [
    "import pandas as pd\n",
    "import numpy as np \n",
    "from sklearn.model_selection import train_test_split\n",
    "from sklearn.ensemble import RandomForestClassifier \n",
    "from sklearn.metrics import f1_score\n",
    "import sys\n",
    "import warnings\n",
    "if not sys.warnoptions:\n",
    "    warnings.simplefilter(\"ignore\")\n",
    "data = pd.read_csv('ProPublica_COMPAS_preprocessed.csv')\n",
    "feature_list = list(pd.read_csv('ProPublica_COMPAS_preprocessed.csv',nrows=0))\n",
    "feature_list.remove(feature_list[0])\n",
    "feature_list.remove(feature_list[-1])\n",
    "data1 = data.drop(data.columns[0], axis=1).values \n",
    "training,testing = train_test_split(data1, test_size=0.2)  # 4/5 train 1/5 for test"
   ]
  },
  {
   "cell_type": "code",
   "execution_count": 306,
   "metadata": {},
   "outputs": [
    {
     "name": "stdout",
     "output_type": "stream",
     "text": [
      "Test Accuracy: 0.650087260034904\n",
      "F1 score is: 0.4328147100424328\n"
     ]
    }
   ],
   "source": [
    "# RANDOM FOREST\n",
    "rf = RandomForestClassifier()\n",
    "# train the model\n",
    "rf.fit(training[:,:-1],training[:,-1:].ravel())\n",
    "# predict the labels and report accuracy\n",
    "hard_pred = rf.predict(testing[:,:-1])\n",
    "acc = np.isclose(hard_pred,testing[:,-1:].ravel()).sum()/len(hard_pred)\n",
    "print(\"Test Accuracy: {}\".format(acc))\n",
    "f1 = f1_score(testing[:,-1:],hard_pred)\n",
    "print('F1 score is:', f1)"
   ]
  },
  {
   "cell_type": "markdown",
   "metadata": {},
   "source": [
    "### 3.b"
   ]
  },
  {
   "cell_type": "code",
   "execution_count": 307,
   "metadata": {},
   "outputs": [
    {
     "name": "stdout",
     "output_type": "stream",
     "text": [
      "feature importance are:\n",
      "[0.28932    0.26412337 0.27678141 0.01065174 0.03553274 0.06729952\n",
      " 0.02366377 0.01860876 0.00993601 0.00211651 0.00196616]\n",
      "\n",
      "The feature has the greatest importance among 'age', 'criminal history','race' is criminal_history\n",
      "\n",
      "relative_importance of race:0.05629121040695936\n",
      "\n",
      "The ranking of feature importance:\n",
      "p_current_age\n",
      "p_charge\n",
      "p_age_first_offense\n",
      "p_probation\n",
      "p_prison\n",
      "race_black\n",
      "race_white\n",
      "p_jail30\n",
      "race_hispanic\n",
      "race_asian\n",
      "race_native\n"
     ]
    },
    {
     "data": {
      "image/png": "[encoded data removed]",
      "text/plain": [
       "<Figure size 432x288 with 1 Axes>"
      ]
     },
     "metadata": {
      "needs_background": "light"
     },
     "output_type": "display_data"
    }
   ],
   "source": [
    "import operator \n",
    "import matplotlib.pyplot as plt\n",
    "importance = rf.feature_importances_\n",
    "rank_dic={}\n",
    "for i, element in enumerate (importance):\n",
    "    rank_dic[element] = feature_list[i]\n",
    "imp_dic = {}\n",
    "imp_dic['age']  = importance[0]     ## the age importance \n",
    "imp_dic['criminal_history'] = sum(importance[1:6])  ## add up all the criminal history importance\n",
    "imp_dic['race'] = sum(importance[6:])   ## add up all the race importance \n",
    "print('feature importance are:')\n",
    "print(importance)\n",
    "print()\n",
    "for (key, value) in imp_dic.items():\n",
    "    if value == max(imp_dic.values()):\n",
    "        print(\"The feature has the greatest importance among 'age', 'criminal history','race' is\" , key)\n",
    "print()\n",
    "print(\"relative_importance of race:{}\" .format(imp_dic['race']))\n",
    "print()\n",
    "sorted_rank_dic = sorted(rank_dic.items(), key=lambda x: x[0],reverse=True)\n",
    "print(\"The ranking of feature importance:\")\n",
    "ranked_list = []\n",
    "for elements in sorted_rank_dic:\n",
    "    ranked_list.append(elements[1])\n",
    "    print(elements[1])\n",
    "ranked_list.reverse()\n",
    "y_pos = np.arange(len(feature_list))\n",
    "importance_bar = np.sort(importance)\n",
    "plt.barh(y_pos, importance_bar,  align='center')\n",
    "plt.yticks(y_pos, ranked_list)\n",
    "plt.xlabel('importance')\n",
    "plt.show()\n"
   ]
  },
  {
   "cell_type": "markdown",
   "metadata": {},
   "source": [
    "According to the data we printed out and plotted out, we can see the race is not that important. First of all, the race only have 0.0562 variable importance given the feature of age and criminal history when we add the related features together. From the plot, we can also tell that most of the race features are ranked in the later half among all the features. "
   ]
  },
  {
   "cell_type": "markdown",
   "metadata": {},
   "source": [
    "### 3.c"
   ]
  },
  {
   "cell_type": "markdown",
   "metadata": {},
   "source": [
    "<font size=3.5>\n",
    "$\\bullet$Remark: the two feature deleted with highest importance are 'p_charge' and 'p_current_age' in the first part of the problem  \n",
    "<font>"
   ]
  },
  {
   "cell_type": "code",
   "execution_count": 308,
   "metadata": {},
   "outputs": [
    {
     "name": "stdout",
     "output_type": "stream",
     "text": [
      "Accuracy: 0.6465968586387435\n"
     ]
    }
   ],
   "source": [
    "training2 = training[:]\n",
    "testing2 = testing[:]\n",
    "training2= np.delete(training2,0,1)   \n",
    "training2 = np.delete(training2,1,1)\n",
    "testing2 =np.delete(testing2,0,1)  \n",
    "testing2 =np.delete(testing2,1,1)\n",
    "rf.fit(training2[:,:-1],training2[:,-1:].ravel())\n",
    "hard_pred2 = rf.predict(testing2[:,:-1])\n",
    "acc2 = np.isclose(hard_pred2,testing2[:,-1:].ravel()).sum()/len(hard_pred2)\n",
    "print(\"Accuracy: {}\".format(acc2))"
   ]
  },
  {
   "cell_type": "code",
   "execution_count": 309,
   "metadata": {},
   "outputs": [
    {
     "name": "stdout",
     "output_type": "stream",
     "text": [
      "The feature has the greatest importance among 'age', 'criminal history','race' is criminal_history\n",
      "\n",
      "relative_importance of race:0.08134021187440726\n"
     ]
    }
   ],
   "source": [
    "importance2 = rf.feature_importances_\n",
    "imp_dic2 = {}\n",
    "imp_dic2['criminal_history'] = sum(importance2[:4])\n",
    "imp_dic2['race'] = sum(importance2[4:])\n",
    "for (key, value) in imp_dic2.items():\n",
    "    if value == max(imp_dic2.values()):\n",
    "        print(\"The feature has the greatest importance among 'age', 'criminal history','race' is\",key)\n",
    "print()\n",
    "print(\"relative_importance of race:{}\" .format(imp_dic2['race']))"
   ]
  },
  {
   "cell_type": "markdown",
   "metadata": {},
   "source": [
    "<font size=3.5>\n",
    "Once we removed the two featuers with highest importance, the relative importance for race increased. \n",
    "<br>\n",
    "$\\bullet$Remark: In the second part of the problem , I remove the feature 'p_charge'\n",
    "<font>"
   ]
  },
  {
   "cell_type": "code",
   "execution_count": 310,
   "metadata": {},
   "outputs": [
    {
     "name": "stdout",
     "output_type": "stream",
     "text": [
      "Accuracy: 0.6326352530541012\n"
     ]
    }
   ],
   "source": [
    "training3= training[:]\n",
    "testing3=testing[:]\n",
    "training3=np.delete(training3,1,1)\n",
    "testing3=np.delete(testing3,1,1)\n",
    "rf.fit(training3[:,:-1],training3[:,-1:].ravel())\n",
    "hard_pred3=rf.predict(testing3[:,:-1])\n",
    "acc3 = np.isclose(hard_pred3,testing3[:,-1:].ravel()).sum()/len(hard_pred)\n",
    "print(\"Accuracy: {}\".format(acc3))"
   ]
  },
  {
   "cell_type": "code",
   "execution_count": 311,
   "metadata": {},
   "outputs": [
    {
     "name": "stdout",
     "output_type": "stream",
     "text": [
      "The feature has the greatest importance among 'age', 'criminal history','race' is criminal_history\n",
      "\n",
      "relative_importance of race:0.04837107940784228\n"
     ]
    }
   ],
   "source": [
    "importance3 = rf.feature_importances_\n",
    "imp_dic3 = {}\n",
    "imp_dic3['age'] = importance3[0]\n",
    "imp_dic3['criminal_history'] = sum(importance3[1:5])\n",
    "imp_dic3['race'] = sum(importance3[5:])\n",
    "for (key, value) in imp_dic3.items():\n",
    "    if value == max(imp_dic3.values()):\n",
    "        print(\"The feature has the greatest importance among 'age', 'criminal history','race' is\",key)\n",
    "print()\n",
    "print(\"relative_importance of race:{}\" .format(imp_dic3['race']/sum(imp_dic2.values())))"
   ]
  },
  {
   "cell_type": "markdown",
   "metadata": {},
   "source": [
    "<font size = 3.5>\n",
    " The importance of race does not have much change but it decreased once we only delete one of the two most important variables compared with the very first one \n",
    "<font>"
   ]
  },
  {
   "cell_type": "markdown",
   "metadata": {},
   "source": [
    "### 3.d"
   ]
  },
  {
   "cell_type": "code",
   "execution_count": 312,
   "metadata": {},
   "outputs": [
    {
     "name": "stdout",
     "output_type": "stream",
     "text": [
      "coefficient of features (before standardized):\n",
      "[-0.02568038 -0.02156813  0.0539297  -0.25097748 -0.05703521  0.06106266\n",
      "  0.22635064  0.09616959 -0.10899033 -0.38475942  0.02531225]\n",
      "\n",
      "coefficient of features(after standardized):\n",
      "[-0.24566361 -0.24760593  0.50792064 -0.06219097 -0.04224698  0.04405448\n",
      "  0.05566429 -0.04183352 -0.07209308 -0.09477024 -0.02655613]\n",
      "\n",
      "ranking of coefficient of features (before standardized):\n",
      "race_asian\n",
      "p_jail30\n",
      "race_black\n",
      "race_hispanic\n",
      "race_white\n",
      "p_probation\n",
      "p_prison\n",
      "p_charge\n",
      "p_current_age\n",
      "race_native\n",
      "p_age_first_offense\n",
      "\n",
      "ranking of coefficient of features (after standardized):\n",
      "p_charge\n",
      "p_age_first_offense\n",
      "p_current_age\n",
      "race_asian\n",
      "race_hispanic\n",
      "p_jail30\n",
      "race_black\n",
      "p_probation\n",
      "p_prison\n",
      "race_white\n",
      "race_native\n"
     ]
    },
    {
     "data": {
      "image/png": "[encoded data removed]",
      "text/plain": [
       "<Figure size 432x288 with 1 Axes>"
      ]
     },
     "metadata": {
      "needs_background": "light"
     },
     "output_type": "display_data"
    },
    {
     "data": {
      "image/png": "[encoded data removed]",
      "text/plain": [
       "<Figure size 432x288 with 1 Axes>"
      ]
     },
     "metadata": {
      "needs_background": "light"
     },
     "output_type": "display_data"
    }
   ],
   "source": [
    "from sklearn.linear_model import LogisticRegression\n",
    "from sklearn.preprocessing import StandardScaler\n",
    "lr1 = LogisticRegression(solver='lbfgs',max_iter=10000)\n",
    "# train the model\n",
    "lr1.fit(training[:,:-1],training[:,-1:].ravel())\n",
    "coeff_before = lr.coef_[0]\n",
    "print('coefficient of features (before standardized):')\n",
    "print(coeff_before)\n",
    "print()\n",
    "sc = StandardScaler()  \n",
    "train_std = sc.fit_transform(training)  \n",
    "lr2 = LogisticRegression(solver='lbfgs',max_iter=10000)\n",
    "lr2.fit(train_std[:,:-1],training[:,-1:].ravel())\n",
    "coeff_after = lr2.coef_[0]\n",
    "print('coefficient of features(after standardized):')\n",
    "print(coeff_after)\n",
    "print()\n",
    "rank_coef_b = {}\n",
    "for k, sub_feature in enumerate (coeff_before):\n",
    "    rank_coef_b[sub_feature] = feature_list[k]\n",
    "sorted_rank_coef_b = sorted(rank_coef_b.items(), key=lambda x: abs(x[0]),reverse = True)\n",
    "ranked_coeff_before = []\n",
    "print(\"ranking of coefficient of features (before standardized):\")\n",
    "for elements in sorted_rank_coef_b:\n",
    "    ranked_coeff_before.append(elements[1])\n",
    "    print(elements[1])\n",
    "ranked_coeff_a=[]\n",
    "rank_coef_a={}\n",
    "for j, sub_feature in enumerate (coeff_after):\n",
    "    rank_coef_a[sub_feature] = feature_list[j]\n",
    "sorted_rank_coef_a = sorted(rank_coef_a.items(), key=lambda x: abs(x[0]),reverse = True)\n",
    "ranked_coeff_after = []\n",
    "print()\n",
    "print(\"ranking of coefficient of features (after standardized):\")\n",
    "for elements in sorted_rank_coef_a:\n",
    "    ranked_coeff_after.append(elements[1])\n",
    "    print(elements[1])\n",
    "\n",
    "\n",
    "coeff_before =abs(coeff_before)\n",
    "coeff_before_sorted = sorted(coeff_before)\n",
    "ranked_coeff_before.reverse()\n",
    "plt.barh(y_pos, coeff_before_sorted,  align='center')\n",
    "plt.yticks(y_pos, ranked_coeff_before)\n",
    "plt.xlabel('coeffient')\n",
    "plt.title('coefficient of features (before)')\n",
    "plt.show()\n",
    "coeff_after =abs(coeff_after)\n",
    "coeff_after_sorted = sorted(coeff_after)\n",
    "ranked_coeff_after.reverse()\n",
    "plt.barh(y_pos, coeff_after_sorted,  align='center')\n",
    "plt.yticks(y_pos, ranked_coeff_after)\n",
    "plt.xlabel('coeffient')\n",
    "plt.title('coefficient of features (after)')\n",
    "plt.show()\n"
   ]
  },
  {
   "cell_type": "markdown",
   "metadata": {},
   "source": [
    "The ranking of feature importance: \n",
    "<br>\n",
    "p_charge\n",
    "p_current_age\n",
    "<br>\n",
    "p_age_first_offense\n",
    "<br>\n",
    "p_probation\n",
    "<br>\n",
    "p_prison\n",
    "<br>\n",
    "race_black\n",
    "<br>\n",
    "race_white\n",
    "<br>\n",
    "race_hispanic\n",
    "<br>\n",
    "p_jail30\n",
    "<br>\n",
    "race_native\n",
    "<br>\n",
    "race_asian\n",
    "<br>\n",
    "<br>\n",
    "After standardized the the data and run a linear classifier, the overall order of the coefficient of variable are similar to the feature importance generated by the random forest. The order is not 100% percent consistent but they both indicates that the criminal history have much more importance than the other two. And the race has the least importance among these three. However ,the data without standardized say the otherwise. I think we should rely on the second part.\n"
   ]
  },
  {
   "cell_type": "markdown",
   "metadata": {},
   "source": [
    "### 3.e"
   ]
  },
  {
   "cell_type": "markdown",
   "metadata": {},
   "source": [
    "What ProPublica says is that someone should get arrested highly dependent on the race, however, my models totally disagree the analysis both for the random forest and for the linear classifier. In problem 3.d, it mentioned that Propublica used coefficients of variables generated by a linear classifier and went into that conclusion. When I replicated the test, before I standardrized the data, I ran into the same conclusion. Therefore, I think ProPublica did the simliar test which is running the linear classifier without standandrizing the data into a certain scale which would possibly overfit the data because linear classifer would tend to match every data points in the set but random forest would use bagging and random spaces to reduce the variance between samples sets and features. Therefore, even if we do not standardrize the data for the RF, we still get the more reasonable result. "
   ]
  },
  {
   "cell_type": "code",
   "execution_count": null,
   "metadata": {},
   "outputs": [],
   "source": []
  }
 ],
 "metadata": {
  "kernelspec": {
   "display_name": "Python 2",
   "language": "python",
   "name": "python2"
  },
  "language_info": {
   "codemirror_mode": {
    "name": "ipython",
    "version": 2
   },
   "file_extension": ".py",
   "mimetype": "text/x-python",
   "name": "python",
   "nbconvert_exporter": "python",
   "pygments_lexer": "ipython2",
   "version": "2.7.15"
  }
 },
 "nbformat": 4,
 "nbformat_minor": 2
}
