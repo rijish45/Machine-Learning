{
 "cells": [
  {
   "cell_type": "markdown",
   "metadata": {},
   "source": [
    "# Classifier Demonstration"
   ]
  },
  {
   "cell_type": "code",
   "execution_count": 30,
   "metadata": {},
   "outputs": [
    {
     "name": "stderr",
     "output_type": "stream",
     "text": [
      "UsageError: Line magic function `%resef` not found.\n"
     ]
    }
   ],
   "source": [
    "%resef -f\n",
    "%matplotlib inline\n",
    "\n",
    "import pandas as pd\n",
    "import numpy as np\n",
    "from matplotlib import pyplot as plt\n",
    "from sklearn.linear_model import LogisticRegression\n",
    "from sklearn.svm import SVC\n",
    "from sklearn.tree import DecisionTreeClassifier\n",
    "from sklearn.ensemble import RandomForestClassifier, GradientBoostingClassifier\n",
    "from sklearn.model_selection import train_test_split\n",
    "from sklearn.metrics import roc_curve, roc_auc_score"
   ]
  },
  {
   "cell_type": "code",
   "execution_count": 31,
   "metadata": {},
   "outputs": [
    {
     "name": "stdout",
     "output_type": "stream",
     "text": [
      "   Cardhldr  Majordrg       Age  Income   Exp_Inc      Avgexp  Ownrent  \\\n",
      "0         1         0  37.66667  4.5200  0.033270  124.983300        1   \n",
      "1         1         0  33.25000  2.4200  0.005217    9.854167        0   \n",
      "2         1         0  33.66667  4.5000  0.004156   15.000000        1   \n",
      "3         1         0  30.50000  2.5400  0.065214  137.869200        0   \n",
      "4         1         0  32.16667  9.7867  0.067051  546.503300        1   \n",
      "\n",
      "   Selfempl  Depndt   Inc_per  Cur_add  Major  Active  \n",
      "0         0       3  1.130000       54      1      12  \n",
      "1         0       3  0.605000       34      1      13  \n",
      "2         0       4  0.900000       58      1       5  \n",
      "3         0       0  2.540000       25      1       7  \n",
      "4         0       2  3.262233       64      1       5  \n"
     ]
    }
   ],
   "source": [
    "# load credit card data from website\n",
    "bad_data = pd.read_csv('http://people.stern.nyu.edu/wgreene/Text/tables/TableF21-4.txt')\n",
    "\n",
    "# data munging to get it into nice csv format\n",
    "parsed_entries = [[e for e in row.split()] for row in bad_data.iloc[2:,0]]\n",
    "all_entries = []\n",
    "for r in parsed_entries:\n",
    "    all_entries.extend(r)\n",
    "all_entries = np.array(all_entries).reshape((1319,13))\n",
    "rows = [\",\".join(r) for r in all_entries]\n",
    "s = \"\\n\".join(rows)\n",
    "titles = \"Cardhldr,Majordrg,Age,Income,Exp_Inc,Avgexp,\" +\\\n",
    "         \"Ownrent,Selfempl,Depndt,Inc_per,Cur_add,Major,Active\\n\"\n",
    "# save nice data\n",
    "with open(\"creditCard.csv\",\"w\") as f:\n",
    "    f.write(titles)\n",
    "    f.write(s)\n",
    "    \n",
    "# load data into pandas dataframe\n",
    "data = pd.read_csv(\"creditCard.csv\",\n",
    "                  dtype = {\"Cardhldr\":np.int,\n",
    "                           \"Majordrg\":np.int,\n",
    "                           \"Ownrent\":np.int,\n",
    "                           \"Selfempl\":np.int,\n",
    "                           \"Depndt\":np.int,\n",
    "                           \"Cur_add\":np.int,\n",
    "                           \"Major\":np.int,\n",
    "                           \"Active\":np.int})\n",
    "\n",
    "# let's take a quick look at the data\n",
    "print(data.head())\n",
    "\n",
    "# set rng seed for reproducibility\n",
    "np.random.seed(seed=1337)\n",
    "\n",
    "# randomly partition data into train (80%) and test (20%) sets\n",
    "train,test = train_test_split(data, test_size=.2)"
   ]
  },
  {
   "cell_type": "code",
   "execution_count": 17,
   "metadata": {},
   "outputs": [
    {
     "name": "stdout",
     "output_type": "stream",
     "text": [
      "Accuracy: 0.9810606060606061\n",
      "ROC Curve:\n"
     ]
    },
    {
     "data": {
      "image/png": "[encoded data removed]",
      "text/plain": [
       "<Figure size 432x288 with 1 Axes>"
      ]
     },
     "metadata": {
      "needs_background": "light"
     },
     "output_type": "display_data"
    },
    {
     "name": "stdout",
     "output_type": "stream",
     "text": [
      "AUC: 0.9674603174603175\n"
     ]
    }
   ],
   "source": [
    "# DECISION TREE\n",
    "dt = DecisionTreeClassifier()\n",
    "\n",
    "# train the model\n",
    "dt.fit(train.iloc[:,1:],train.iloc[:,0])\n",
    "\n",
    "# predict the labels and report accuracy\n",
    "hard_pred = dt.predict(test.iloc[:,1:])\n",
    "acc = np.isclose(hard_pred,test.iloc[:,0]).sum()/len(hard_pred)\n",
    "print(\"Accuracy: {}\".format(acc))\n",
    "\n",
    "# use predicted probabilities to construct ROC curve and AUC score\n",
    "soft_pred = dt.predict_proba(test.iloc[:,1:])\n",
    "fpr,tpr,thresh = roc_curve(test.iloc[:,0],soft_pred[:,1])\n",
    "auc = roc_auc_score(test.iloc[:,0],soft_pred[:,1])\n",
    "print(\"ROC Curve:\")\n",
    "plt.plot(fpr,tpr)\n",
    "plt.plot([0,1],[0,1],\"r--\",alpha=.5)\n",
    "plt.show()\n",
    "print(\"AUC: {}\".format(auc))"
   ]
  },
  {
   "cell_type": "code",
   "execution_count": 18,
   "metadata": {},
   "outputs": [
    {
     "name": "stdout",
     "output_type": "stream",
     "text": [
      "(1055,)\n",
      "Accuracy: 0.9810606060606061\n",
      "ROC Curve:\n"
     ]
    },
    {
     "name": "stderr",
     "output_type": "stream",
     "text": [
      "/Users/Yiteng/anaconda3/lib/python3.7/site-packages/sklearn/ensemble/forest.py:246: FutureWarning: The default value of n_estimators will change from 10 in version 0.20 to 100 in 0.22.\n",
      "  \"10 in version 0.20 to 100 in 0.22.\", FutureWarning)\n"
     ]
    },
    {
     "data": {
      "image/png": "[encoded data removed]",
      "text/plain": [
       "<Figure size 432x288 with 1 Axes>"
      ]
     },
     "metadata": {
      "needs_background": "light"
     },
     "output_type": "display_data"
    },
    {
     "name": "stdout",
     "output_type": "stream",
     "text": [
      "AUC: 0.9922398589065257\n"
     ]
    }
   ],
   "source": [
    "# RANDOM FOREST\n",
    "rf = RandomForestClassifier()\n",
    "# train the model\n",
    "rf.fit(train.iloc[:,1:],train.iloc[:,0])\n",
    "print(np.shape((train.iloc[:,0])))\n",
    "# predict the labels and report accuracy\n",
    "hard_pred = rf.predict(test.iloc[:,1:])\n",
    "acc = np.isclose(hard_pred,test.iloc[:,0]).sum()/len(hard_pred)\n",
    "print(\"Accuracy: {}\".format(acc))\n",
    "\n",
    "# use predicted probabilities to construct ROC curve and AUC score\n",
    "soft_pred = rf.predict_proba(test.iloc[:,1:])\n",
    "fpr,tpr,thresh = roc_curve(test.iloc[:,0],soft_pred[:,1])\n",
    "auc = roc_auc_score(test.iloc[:,0],soft_pred[:,1])\n",
    "print(\"ROC Curve:\")\n",
    "plt.plot(fpr,tpr)\n",
    "plt.plot([0,1],[0,1],\"r--\",alpha=.5)\n",
    "plt.show()\n",
    "print(\"AUC: {}\".format(auc))"
   ]
  },
  {
   "cell_type": "code",
   "execution_count": 19,
   "metadata": {},
   "outputs": [
    {
     "name": "stdout",
     "output_type": "stream",
     "text": [
      "Accuracy: 0.9886363636363636\n",
      "ROC Curve:\n"
     ]
    },
    {
     "data": {
      "image/png": "[encoded data removed]",
      "text/plain": [
       "<Figure size 432x288 with 1 Axes>"
      ]
     },
     "metadata": {
      "needs_background": "light"
     },
     "output_type": "display_data"
    },
    {
     "name": "stdout",
     "output_type": "stream",
     "text": [
      "AUC: 0.9955026455026454\n"
     ]
    }
   ],
   "source": [
    "# GRADIENT BOOSTED TREES\n",
    "gb = GradientBoostingClassifier()\n",
    "\n",
    "# train the model\n",
    "gb.fit(train.iloc[:,1:],train.iloc[:,0])\n",
    "\n",
    "# predict the labels and report accuracy\n",
    "hard_pred = gb.predict(test.iloc[:,1:])\n",
    "acc = np.isclose(hard_pred,test.iloc[:,0]).sum()/len(hard_pred)\n",
    "print(\"Accuracy: {}\".format(acc))\n",
    "\n",
    "# use predicted probabilities to construct ROC curve and AUC score\n",
    "soft_pred = gb.predict_proba(test.iloc[:,1:])\n",
    "fpr,tpr,thresh = roc_curve(test.iloc[:,0],soft_pred[:,1])\n",
    "auc = roc_auc_score(test.iloc[:,0],soft_pred[:,1])\n",
    "print(\"ROC Curve:\")\n",
    "plt.plot(fpr,tpr)\n",
    "plt.plot([0,1],[0,1],\"r--\",alpha=.5)\n",
    "plt.show()\n",
    "print(\"AUC: {}\".format(auc))"
   ]
  },
  {
   "cell_type": "code",
   "execution_count": 35,
   "metadata": {},
   "outputs": [
    {
     "name": "stdout",
     "output_type": "stream",
     "text": [
      "      Majordrg       Age  Income   Exp_Inc      Avgexp  Ownrent  Selfempl  \\\n",
      "1103         2  25.91667  2.0700  0.000580    0.000000        0         0   \n",
      "720          0  23.50000  2.8000  0.063393  147.333300        0         0   \n",
      "945          0  19.00000  2.8000  0.167214  390.166700        1         0   \n",
      "816          0  34.91667  3.0000  0.014649   36.205000        0         0   \n",
      "678          0  34.83333  3.6000  0.038827  116.315000        1         1   \n",
      "639          0  34.25000  2.4000  0.000500    0.000000        0         0   \n",
      "1258         0  35.58333  3.5606  0.109084  323.587500        0         0   \n",
      "322          0  25.33333  2.1000  0.196675  344.180800        1         0   \n",
      "540          1  28.25000  2.3000  0.034896   66.300830        1         0   \n",
      "539          0  25.33333  2.6400  0.000455    0.000000        0         0   \n",
      "312          0  21.66667  2.1600  0.110629  198.548300        1         0   \n",
      "789          0  31.25000  5.5000  0.070863  324.705000        1         0   \n",
      "1127         1  52.33333  2.0000  0.000600    0.000000        1         0   \n",
      "1269         0  22.33333  2.8000  0.082287  191.835800        0         0   \n",
      "178          1  34.66667  3.3000  0.000364    0.000000        0         0   \n",
      "332          0  34.00000  3.7000  0.189334  583.778300        1         1   \n",
      "204          0  47.58333  4.6500  0.015160   58.245830        0         0   \n",
      "123          0  40.83333  2.6000  0.004231    8.333333        1         0   \n",
      "888          0  26.08333  2.2300  0.056520  104.783300        0         0   \n",
      "98           0  26.25000  5.0000  0.108289  451.205000        1         0   \n",
      "663          0  28.25000  2.3000  0.164496  315.201700        1         0   \n",
      "908          0  25.33333  1.6000  0.000750    0.000000        0         0   \n",
      "1193         0  23.75000  1.6720  0.000718    0.000000        0         0   \n",
      "369          0  24.16667  2.7885  0.000430    0.000000        0         0   \n",
      "975          0  57.58333  4.1000  0.083899  286.570000        1         0   \n",
      "474          2  35.50000  2.9000  0.000414    0.000000        0         0   \n",
      "1169         0  60.25000  2.8000  0.043723  101.854200        1         0   \n",
      "1070         0  41.00000  6.8250  0.116853  664.602500        0         0   \n",
      "1066         0  46.25000  6.8000  0.007138   40.199170        1         1   \n",
      "310          0  37.58333  2.9623  0.002228    4.583333        1         1   \n",
      "...        ...       ...     ...       ...         ...      ...       ...   \n",
      "435          0  25.66667  2.0000  0.004900    7.416667        0         0   \n",
      "603          0  47.33333  2.7495  0.214842  492.255800        0         0   \n",
      "879          0  45.08333  4.6000  0.077767  298.023300        0         0   \n",
      "337          0  30.16667  2.4000  0.000500    0.000000        0         1   \n",
      "750          0  32.25000  2.6000  0.078790  170.462500        0         0   \n",
      "659          0  23.25000  1.4340  0.000837    0.000000        1         0   \n",
      "60           2  25.08333  3.0000  0.038453   95.799160        0         0   \n",
      "1227         0  42.00000  6.3000  0.040651  213.000000        1         0   \n",
      "962          0  31.58333  6.5000  0.111309  602.920800        1         0   \n",
      "370          0  47.08333  4.5000  0.139500  523.125000        1         0   \n",
      "1046         0  23.91667  2.0000  0.100191  166.901700        0         0   \n",
      "774          1  28.16667  2.0000  0.051839   86.148330        0         0   \n",
      "1117         0  22.91667  1.5600  0.098517  128.072500        1         0   \n",
      "795          0  25.08333  2.8542  0.136232  324.027500        0         1   \n",
      "1153         0  44.58333  3.1000  0.125121  323.063300        1         0   \n",
      "664          0  26.25000  3.1894  0.097212  258.290800        0         0   \n",
      "1047         0  34.83333  3.0000  0.126377  315.942500        0         0   \n",
      "438          0  22.50000  1.8000  0.119611  178.915800        0         0   \n",
      "390          0  24.08333  2.2500  0.158461  297.031700        0         0   \n",
      "265          0  46.25000  5.4000  0.059772  268.724200        1         0   \n",
      "72           0  33.00000  3.2480  0.020899   56.149170        0         0   \n",
      "1108         0  45.75000  5.0000  0.001525    5.520833        1         0   \n",
      "82           0  19.58333  1.6500  0.079048  108.607500        0         0   \n",
      "346          0  20.41667  2.2375  0.050638   93.919170        0         0   \n",
      "679          0  31.08333  1.5150  0.000792    0.000000        0         0   \n",
      "1191         0  40.00000  4.9875  0.000241    0.000000        1         0   \n",
      "1256         0  33.83333  1.8000  0.113251  169.876700        0         0   \n",
      "860          0  27.16667  2.2000  0.007310   12.650830        0         0   \n",
      "189          0  33.75000  5.0000  0.050173  209.055800        1         0   \n",
      "1175         0  69.75000  1.8000  0.000667    0.000000        1         0   \n",
      "\n",
      "      Depndt   Inc_per  Cur_add  Major  Active  \n",
      "1103       0  2.070000       20      0       7  \n",
      "720        0  2.800000       64      1       8  \n",
      "945        0  2.800000       10      0       0  \n",
      "816        1  1.500000       30      0       2  \n",
      "678        4  0.720000       48      1       8  \n",
      "639        0  2.400000       27      1       2  \n",
      "1258       0  3.560600       12      1       0  \n",
      "322        1  1.050000       22      1      19  \n",
      "540        1  1.150000       24      1      14  \n",
      "539        0  2.640000       24      1      33  \n",
      "312        0  2.160000       18      1       7  \n",
      "789        3  1.375000        6      1       7  \n",
      "1127       3  0.500000       54      1       7  \n",
      "1269       0  2.800000        4      1       0  \n",
      "178        3  0.825000       48      0       3  \n",
      "332        2  1.233333        5      1       2  \n",
      "204        2  1.550000       25      1      11  \n",
      "123        0  2.600000       52      1       3  \n",
      "888        0  2.230000       12      1       1  \n",
      "98         0  5.000000        5      1      16  \n",
      "663        1  1.150000       13      0       4  \n",
      "908        0  1.600000       93      1       0  \n",
      "1193       0  1.672000       27      1       0  \n",
      "369        0  2.788500        4      1       0  \n",
      "975        3  1.025000      121      1      15  \n",
      "474        1  1.450000      102      1      21  \n",
      "1169       3  0.700000      232      1       7  \n",
      "1070       2  2.275000       12      1       0  \n",
      "1066       0  6.800000       48      1       2  \n",
      "310        1  1.481150       93      1      13  \n",
      "...      ...       ...      ...    ...     ...  \n",
      "435        0  2.000000       26      1      13  \n",
      "603        0  2.749500      156      0      11  \n",
      "879        2  1.533333       72      1       5  \n",
      "337        2  0.800000       72      1      11  \n",
      "750        1  1.300000       76      0       3  \n",
      "659        0  1.434000       12      1       6  \n",
      "60         0  3.000000        8      0       4  \n",
      "1227       4  1.260000       72      1      20  \n",
      "962        2  2.166667       12      1       6  \n",
      "370        0  4.500000        3      1      13  \n",
      "1046       0  2.000000        9      1       0  \n",
      "774        1  1.000000       61      1       2  \n",
      "1117       0  1.560000        6      0       7  \n",
      "795        1  1.427100       42      1       3  \n",
      "1153       0  3.100000       75      1       5  \n",
      "664        0  3.189400       10      1      11  \n",
      "1047       6  0.428571       12      0      16  \n",
      "438        0  1.800000        6      0       2  \n",
      "390        1  1.125000       10      1       9  \n",
      "265        4  1.080000      204      1       7  \n",
      "72         2  1.082667      144      0       2  \n",
      "1108       0  5.000000      144      1      14  \n",
      "82         0  1.650000       37      1       8  \n",
      "346        0  2.237500       27      1       1  \n",
      "679        2  0.505000       20      1       0  \n",
      "1191       2  1.662500       32      1      16  \n",
      "1256       0  1.800000        4      1       8  \n",
      "860        0  2.200000       60      0       2  \n",
      "189        3  1.250000       10      1      10  \n",
      "1175       0  1.800000      528      0       5  \n",
      "\n",
      "[1055 rows x 12 columns]\n",
      "densify\n",
      "the coeff is [[-1.55257538e+00 -1.65263059e-03 -4.03257781e-01 -5.83522094e-04\n",
      "   1.56119331e+00  3.81754233e-01  4.64993796e-02 -5.49392667e-01\n",
      "   2.83395804e-01 -3.36888075e-03 -1.32656974e-01  9.54510089e-02]]\n",
      "Accuracy: 0.9848484848484849\n",
      "ROC Curve:\n"
     ]
    },
    {
     "name": "stderr",
     "output_type": "stream",
     "text": [
      "/Users/Yiteng/anaconda3/lib/python3.7/site-packages/sklearn/linear_model/logistic.py:433: FutureWarning: Default solver will be changed to 'lbfgs' in 0.22. Specify a solver to silence this warning.\n",
      "  FutureWarning)\n"
     ]
    },
    {
     "data": {
      "image/png": "[encoded data removed]",
      "text/plain": [
       "<Figure size 432x288 with 1 Axes>"
      ]
     },
     "metadata": {
      "needs_background": "light"
     },
     "output_type": "display_data"
    },
    {
     "name": "stdout",
     "output_type": "stream",
     "text": [
      "AUC: 0.9959435626102293\n"
     ]
    }
   ],
   "source": [
    "# LOGISTIC REGRESSION\n",
    "# initialize a logistric regression object\n",
    "lr = LogisticRegression()\n",
    "\n",
    "# train the model\n",
    "lr.fit(train.iloc[:,1:],train.iloc[:,0])\n",
    "print('densify')\n",
    "print('the coeff is',lr.coef_)\n",
    "# predict the labels and report accuracy\n",
    "hard_pred = lr.predict(test.iloc[:,1:])\n",
    "acc = np.isclose(hard_pred,test.iloc[:,0]).sum()/len(hard_pred)\n",
    "print(\"Accuracy: {}\".format(acc))\n",
    "\n",
    "# use predicted probabilities to construct ROC curve and AUC score\n",
    "soft_pred = lr.predict_proba(test.iloc[:,1:])\n",
    "fpr,tpr,thresh = roc_curve(test.iloc[:,0],soft_pred[:,1])\n",
    "auc = roc_auc_score(test.iloc[:,0],soft_pred[:,1])\n",
    "print(\"ROC Curve:\")\n",
    "plt.plot(fpr,tpr)\n",
    "plt.plot([0,1],[0,1],\"r--\",alpha=.5)\n",
    "plt.show()\n",
    "print(\"AUC: {}\".format(auc))"
   ]
  },
  {
   "cell_type": "code",
   "execution_count": 8,
   "metadata": {},
   "outputs": [
    {
     "name": "stderr",
     "output_type": "stream",
     "text": [
      "/Users/Yiteng/anaconda3/lib/python3.7/site-packages/sklearn/svm/base.py:196: FutureWarning: The default value of gamma will change from 'auto' to 'scale' in version 0.22 to account better for unscaled features. Set gamma explicitly to 'auto' or 'scale' to avoid this warning.\n",
      "  \"avoid this warning.\", FutureWarning)\n"
     ]
    },
    {
     "name": "stdout",
     "output_type": "stream",
     "text": [
      "Accuracy: 0.8484848484848485\n",
      "ROC Curve:\n"
     ]
    },
    {
     "data": {
      "image/png": "[encoded data removed]",
      "text/plain": [
       "<Figure size 432x288 with 1 Axes>"
      ]
     },
     "metadata": {
      "needs_background": "light"
     },
     "output_type": "display_data"
    },
    {
     "name": "stdout",
     "output_type": "stream",
     "text": [
      "AUC: 0.9783068783068785\n"
     ]
    }
   ],
   "source": [
    "# SUPPORT VECTOR MACHINE\n",
    "sv = SVC(probability=True)\n",
    "\n",
    "# train the model\n",
    "sv.fit(train.iloc[:,1:],train.iloc[:,0])\n",
    "\n",
    "# predict the labels and report accuracy\n",
    "hard_pred = sv.predict(test.iloc[:,1:])\n",
    "acc = np.isclose(hard_pred,test.iloc[:,0]).sum()/len(hard_pred)\n",
    "print(\"Accuracy: {}\".format(acc))\n",
    "\n",
    "# use predicted probabilities to construct ROC curve and AUC score\n",
    "soft_pred = sv.predict_proba(test.iloc[:,1:])\n",
    "fpr,tpr,thresh = roc_curve(test.iloc[:,0],soft_pred[:,1])\n",
    "auc = roc_auc_score(test.iloc[:,0],soft_pred[:,1])\n",
    "print(\"ROC Curve:\")\n",
    "plt.plot(fpr,tpr)\n",
    "plt.plot([0,1],[0,1],\"r--\",alpha=.5)\n",
    "plt.show()\n",
    "print(\"AUC: {}\".format(auc))"
   ]
  },
  {
   "cell_type": "code",
   "execution_count": null,
   "metadata": {},
   "outputs": [],
   "source": [
    "importance_origin = importance[:]\n",
    "feature_name = (list(pd.read_csv('ProPublica_COMPAS_preprocessed.csv',nrows = 0)))[1:-1]\n",
    "importance_dict_small = dict(zip(importance,feature_name))\n",
    "sorted_dict = collections.OrderedDict(sorted(importance_dict_small.items()))\n",
    "plt.bar( sorted_dict.values(),sorted_dict.keys(), color='g')\n",
    "plt.xticks(rotation = 45)\n",
    "plt.xlabel(\"features\")\n",
    "plt.ylabel(\"importance of features\")\n",
    "plt.show()\n",
    "print(\"The ordered importance of the features is listed ascendingly as follows: \", list(sorted_dict.values()))"
   ]
  }
 ],
 "metadata": {
  "anaconda-cloud": {},
  "kernelspec": {
   "display_name": "Python 3",
   "language": "python",
   "name": "python3"
  },
  "language_info": {
   "codemirror_mode": {
    "name": "ipython",
    "version": 3
   },
   "file_extension": ".py",
   "mimetype": "text/x-python",
   "name": "python",
   "nbconvert_exporter": "python",
   "pygments_lexer": "ipython3",
   "version": "3.7.1"
  }
 },
 "nbformat": 4,
 "nbformat_minor": 2
}
