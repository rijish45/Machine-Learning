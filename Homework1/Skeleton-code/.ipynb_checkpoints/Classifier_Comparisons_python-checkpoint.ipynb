{
 "cells": [
  {
   "cell_type": "markdown",
   "metadata": {},
   "source": [
    "# Classifier Demonstration"
   ]
  },
  {
   "cell_type": "code",
   "execution_count": 2,
   "metadata": {
    "collapsed": false
   },
   "outputs": [],
   "source": [
    "%matplotlib inline\n",
    "\n",
    "import pandas as pd\n",
    "import numpy as np\n",
    "from matplotlib import pyplot as plt\n",
    "from sklearn.linear_model import LogisticRegression\n",
    "from sklearn.svm import SVC\n",
    "from sklearn.tree import DecisionTreeClassifier\n",
    "from sklearn.ensemble import RandomForestClassifier, GradientBoostingClassifier\n",
    "from sklearn.cross_validation import train_test_split\n",
    "from sklearn.metrics import roc_curve, roc_auc_score"
   ]
  },
  {
   "cell_type": "code",
   "execution_count": 3,
   "metadata": {
    "collapsed": false
   },
   "outputs": [
    {
     "name": "stdout",
     "output_type": "stream",
     "text": [
      "   Cardhldr  Majordrg       Age  Income   Exp_Inc      Avgexp  Ownrent  \\\n",
      "0         1         0  37.66667  4.5200  0.033270  124.983300        1   \n",
      "1         1         0  33.25000  2.4200  0.005217    9.854167        0   \n",
      "2         1         0  33.66667  4.5000  0.004156   15.000000        1   \n",
      "3         1         0  30.50000  2.5400  0.065214  137.869200        0   \n",
      "4         1         0  32.16667  9.7867  0.067051  546.503300        1   \n",
      "\n",
      "   Selfempl  Depndt   Inc_per  Cur_add  Major  Active  \n",
      "0         0       3  1.130000       54      1      12  \n",
      "1         0       3  0.605000       34      1      13  \n",
      "2         0       4  0.900000       58      1       5  \n",
      "3         0       0  2.540000       25      1       7  \n",
      "4         0       2  3.262233       64      1       5  \n"
     ]
    }
   ],
   "source": [
    "# load credit card data from website\n",
    "bad_data = pd.read_csv('http://people.stern.nyu.edu/wgreene/Text/tables/TableF21-4.txt')\n",
    "\n",
    "# data munging to get it into nice csv format\n",
    "parsed_entries = [[e for e in row.split()] for row in bad_data.iloc[2:,0]]\n",
    "all_entries = []\n",
    "for r in parsed_entries:\n",
    "    all_entries.extend(r)\n",
    "all_entries = np.array(all_entries).reshape((1319,13))\n",
    "rows = [\",\".join(r) for r in all_entries]\n",
    "s = \"\\n\".join(rows)\n",
    "titles = \"Cardhldr,Majordrg,Age,Income,Exp_Inc,Avgexp,\" +\\\n",
    "         \"Ownrent,Selfempl,Depndt,Inc_per,Cur_add,Major,Active\\n\"\n",
    "# save nice data\n",
    "with open(\"creditCard.csv\",\"w\") as f:\n",
    "    f.write(titles)\n",
    "    f.write(s)\n",
    "    \n",
    "# load data into pandas dataframe\n",
    "data = pd.read_csv(\"creditCard.csv\",\n",
    "                  dtype = {\"Cardhldr\":np.int,\n",
    "                           \"Majordrg\":np.int,\n",
    "                           \"Ownrent\":np.int,\n",
    "                           \"Selfempl\":np.int,\n",
    "                           \"Depndt\":np.int,\n",
    "                           \"Cur_add\":np.int,\n",
    "                           \"Major\":np.int,\n",
    "                           \"Active\":np.int})\n",
    "\n",
    "# let's take a quick look at the data\n",
    "print(data.head())\n",
    "\n",
    "# set rng seed for reproducibility\n",
    "np.random.seed(seed=1337)\n",
    "\n",
    "# randomly partition data into train (80%) and test (20%) sets\n",
    "train,test = train_test_split(data, test_size=.2)"
   ]
  },
  {
   "cell_type": "code",
   "execution_count": 5,
   "metadata": {
    "collapsed": false
   },
   "outputs": [
    {
     "name": "stdout",
     "output_type": "stream",
     "text": [
      "Accuracy: 0\n",
      "ROC Curve:\n"
     ]
    },
    {
     "data": {
      "image/png": "[encoded data removed]",
      "text/plain": [
       "<matplotlib.figure.Figure at 0x10fc71490>"
      ]
     },
     "metadata": {},
     "output_type": "display_data"
    },
    {
     "name": "stdout",
     "output_type": "stream",
     "text": [
      "AUC: 0.958201058201\n"
     ]
    }
   ],
   "source": [
    "# DECISION TREE\n",
    "dt = DecisionTreeClassifier()\n",
    "\n",
    "# train the model\n",
    "dt.fit(train.iloc[:,1:],train.iloc[:,0])\n",
    "\n",
    "# predict the labels and report accuracy\n",
    "hard_pred = dt.predict(test.iloc[:,1:])\n",
    "acc = np.isclose(hard_pred,test.iloc[:,0]).sum()/len(hard_pred)\n",
    "print(\"Accuracy: {}\".format(acc))\n",
    "\n",
    "# use predicted probabilities to construct ROC curve and AUC score\n",
    "soft_pred = dt.predict_proba(test.iloc[:,1:])\n",
    "fpr,tpr,thresh = roc_curve(test.iloc[:,0],soft_pred[:,1])\n",
    "auc = roc_auc_score(test.iloc[:,0],soft_pred[:,1])\n",
    "print(\"ROC Curve:\")\n",
    "plt.plot(fpr,tpr)\n",
    "plt.plot([0,1],[0,1],\"r--\",alpha=.5)\n",
    "plt.show()\n",
    "print(\"AUC: {}\".format(auc))"
   ]
  },
  {
   "cell_type": "code",
   "execution_count": 10,
   "metadata": {
    "collapsed": false
   },
   "outputs": [
    {
     "name": "stdout",
     "output_type": "stream",
     "text": [
      "[1 0 1 1 1 1 1 0 1 1 1 1 1 1 1 0 1 1 1 1 1 0 0 1 1 0 0 1 0 0 0 1 0 1 1 0 1\n",
      " 1 1 1 1 0 0 1 0 0 1 1 1 1 0 1 1 0 0 0 1 1 1 1 0 1 1 1 1 1 0 1 1 1 1 1 1 0\n",
      " 1 0 1 1 1 1 1 1 1 1 1 1 1 1 1 1 0 1 1 1 0 1 1 1 1 1 0 1 0 1 1 1 1 1 1 0 0\n",
      " 1 1 1 1 1 1 1 1 1 0 1 1 1 0 1 0 1 1 1 1 1 1 1 0 1 1 1 1 1 1 1 1 1 1 1 1 1\n",
      " 1 1 1 1 1 1 0 1 1 0 1 0 1 0 1 1 0 1 1 0 1 1 1 0 1 1 1 1 1 1 1 1 1 1 1 1 1\n",
      " 1 1 1 0 1 1 1 1 1 1 0 1 1 1 1 1 0 1 1 1 1 1 1 1 1 1 1 1 1 0 1 1 1 1 1 0 1\n",
      " 1 0 1 1 0 0 1 0 1 1 1 1 1 1 1 1 1 1 0 1 1 1 0 0 1 1 0 0 1 1 1 1 0 0 1 1 1\n",
      " 1 1 1 1 0]\n",
      "<pandas.core.indexing._iLocIndexer object at 0x110ee1b10>\n",
      "0\n",
      "Accuracy: 0\n",
      "ROC Curve:\n"
     ]
    },
    {
     "data": {
      "image/png": "[encoded data removed]",
      "text/plain": [
       "<matplotlib.figure.Figure at 0x11185ebd0>"
      ]
     },
     "metadata": {},
     "output_type": "display_data"
    },
    {
     "name": "stdout",
     "output_type": "stream",
     "text": [
      "AUC: 0.994488536155\n"
     ]
    }
   ],
   "source": [
    "# RANDOM FOREST\n",
    "rf = RandomForestClassifier()\n",
    "\n",
    "# train the model\n",
    "rf.fit(train.iloc[:,1:],train.iloc[:,0])\n",
    "\n",
    "# predict the labels and report accuracy\n",
    "hard_pred = rf.predict(test.iloc[:,1:])\n",
    "acc = np.isclose(hard_pred,test.iloc[:,0]).sum()/len(hard_pred)\n",
    "print(\"Accuracy: {}\".format(acc))\n",
    "\n",
    "# use predicted probabilities to construct ROC curve and AUC score\n",
    "soft_pred = rf.predict_proba(test.iloc[:,1:])\n",
    "fpr,tpr,thresh = roc_curve(test.iloc[:,0],soft_pred[:,1])\n",
    "auc = roc_auc_score(test.iloc[:,0],soft_pred[:,1])\n",
    "print(\"ROC Curve:\")\n",
    "plt.plot(fpr,tpr)\n",
    "plt.plot([0,1],[0,1],\"r--\",alpha=.5)\n",
    "plt.show()\n",
    "print(\"AUC: {}\".format(auc))"
   ]
  },
  {
   "cell_type": "code",
   "execution_count": 16,
   "metadata": {
    "collapsed": false
   },
   "outputs": [
    {
     "name": "stdout",
     "output_type": "stream",
     "text": [
      "Accuracy: 0.9848484848484849\n",
      "ROC Curve:\n"
     ]
    },
    {
     "data": {
      "image/png": "[encoded data removed]",
      "text/plain": [
       "<matplotlib.figure.Figure at 0x7f08d0385518>"
      ]
     },
     "metadata": {},
     "output_type": "display_data"
    },
    {
     "name": "stdout",
     "output_type": "stream",
     "text": [
      "AUC: 0.9955026455026454\n"
     ]
    }
   ],
   "source": [
    "# GRADIENT BOOSTED TREES\n",
    "gb = GradientBoostingClassifier()\n",
    "\n",
    "# train the model\n",
    "gb.fit(train.iloc[:,1:],train.iloc[:,0])\n",
    "\n",
    "# predict the labels and report accuracy\n",
    "hard_pred = gb.predict(test.iloc[:,1:])\n",
    "acc = np.isclose(hard_pred,test.iloc[:,0]).sum()/len(hard_pred)\n",
    "print(\"Accuracy: {}\".format(acc))\n",
    "\n",
    "# use predicted probabilities to construct ROC curve and AUC score\n",
    "soft_pred = gb.predict_proba(test.iloc[:,1:])\n",
    "fpr,tpr,thresh = roc_curve(test.iloc[:,0],soft_pred[:,1])\n",
    "auc = roc_auc_score(test.iloc[:,0],soft_pred[:,1])\n",
    "print(\"ROC Curve:\")\n",
    "plt.plot(fpr,tpr)\n",
    "plt.plot([0,1],[0,1],\"r--\",alpha=.5)\n",
    "plt.show()\n",
    "print(\"AUC: {}\".format(auc))"
   ]
  },
  {
   "cell_type": "code",
   "execution_count": 6,
   "metadata": {
    "collapsed": false
   },
   "outputs": [
    {
     "name": "stdout",
     "output_type": "stream",
     "text": [
      "Accuracy: 0.9848484848484849\n",
      "ROC Curve:\n"
     ]
    },
    {
     "data": {
      "image/png": "[encoded data removed]",
      "text/plain": [
       "<matplotlib.figure.Figure at 0x7f090462b5c0>"
      ]
     },
     "metadata": {},
     "output_type": "display_data"
    },
    {
     "name": "stdout",
     "output_type": "stream",
     "text": [
      "AUC: 0.9959435626102292\n"
     ]
    }
   ],
   "source": [
    "# LOGISTIC REGRESSION\n",
    "# initialize a logistric regression object\n",
    "lr = LogisticRegression()\n",
    "\n",
    "# train the model\n",
    "lr.fit(train.iloc[:,1:],train.iloc[:,0])\n",
    "\n",
    "# predict the labels and report accuracy\n",
    "hard_pred = lr.predict(test.iloc[:,1:])\n",
    "acc = np.isclose(hard_pred,test.iloc[:,0]).sum()/len(hard_pred)\n",
    "print(\"Accuracy: {}\".format(acc))\n",
    "\n",
    "# use predicted probabilities to construct ROC curve and AUC score\n",
    "soft_pred = lr.predict_proba(test.iloc[:,1:])\n",
    "fpr,tpr,thresh = roc_curve(test.iloc[:,0],soft_pred[:,1])\n",
    "auc = roc_auc_score(test.iloc[:,0],soft_pred[:,1])\n",
    "print(\"ROC Curve:\")\n",
    "plt.plot(fpr,tpr)\n",
    "plt.plot([0,1],[0,1],\"r--\",alpha=.5)\n",
    "plt.show()\n",
    "print(\"AUC: {}\".format(auc))"
   ]
  },
  {
   "cell_type": "code",
   "execution_count": 9,
   "metadata": {
    "collapsed": false
   },
   "outputs": [
    {
     "name": "stdout",
     "output_type": "stream",
     "text": [
      "Accuracy: 0.8484848484848485\n",
      "ROC Curve:\n"
     ]
    },
    {
     "data": {
      "image/png": "[encoded data removed]",
      "text/plain": [
       "<matplotlib.figure.Figure at 0x7f08cd758358>"
      ]
     },
     "metadata": {},
     "output_type": "display_data"
    },
    {
     "name": "stdout",
     "output_type": "stream",
     "text": [
      "AUC: 0.9728395061728397\n"
     ]
    }
   ],
   "source": [
    "# SUPPORT VECTOR MACHINE\n",
    "sv = SVC(probability=True)\n",
    "\n",
    "# train the model\n",
    "sv.fit(train.iloc[:,1:],train.iloc[:,0])\n",
    "\n",
    "# predict the labels and report accuracy\n",
    "hard_pred = sv.predict(test.iloc[:,1:])\n",
    "acc = np.isclose(hard_pred,test.iloc[:,0]).sum()/len(hard_pred)\n",
    "print(\"Accuracy: {}\".format(acc))\n",
    "\n",
    "# use predicted probabilities to construct ROC curve and AUC score\n",
    "soft_pred = sv.predict_proba(test.iloc[:,1:])\n",
    "fpr,tpr,thresh = roc_curve(test.iloc[:,0],soft_pred[:,1])\n",
    "auc = roc_auc_score(test.iloc[:,0],soft_pred[:,1])\n",
    "print(\"ROC Curve:\")\n",
    "plt.plot(fpr,tpr)\n",
    "plt.plot([0,1],[0,1],\"r--\",alpha=.5)\n",
    "plt.show()\n",
    "print(\"AUC: {}\".format(auc))"
   ]
  }
 ],
 "metadata": {
  "anaconda-cloud": {},
  "kernelspec": {
   "display_name": "Python 2",
   "language": "python",
   "name": "python2"
  },
  "language_info": {
   "codemirror_mode": {
    "name": "ipython",
    "version": 2
   },
   "file_extension": ".py",
   "mimetype": "text/x-python",
   "name": "python",
   "nbconvert_exporter": "python",
   "pygments_lexer": "ipython2",
   "version": "2.7.12"
  }
 },
 "nbformat": 4,
 "nbformat_minor": 0
}
