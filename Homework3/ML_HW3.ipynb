{
 "cells": [
  {
   "cell_type": "markdown",
   "metadata": {},
   "source": [
    "## 1. Probit Classification "
   ]
  },
  {
   "cell_type": "markdown",
   "metadata": {},
   "source": [
    "### (a)"
   ]
  },
  {
   "cell_type": "markdown",
   "metadata": {},
   "source": [
    "<font size = 3.5>\n",
    "Given $Y = \\begin{cases} 1 &\\mbox{if } Z > 0\\\\ 0 &\\mbox{otherwise} \\end{cases}$ and $Z = \\bf{x}\\beta + \\epsilon \\ \\ $,  then $\\mathrm{Pr}(Y=1|\\mathbf{x}) = \\mathrm{Pr}(Z > 0) = \\mathrm{Pr}(Z = \\bf{x}\\beta + \\epsilon > \\mathrm{0})$ \n",
    "<br>\n",
    "<br>\n",
    "$\\Rightarrow  \\mathrm{Pr}(\\bf{x}\\beta + \\epsilon > \\mathrm{0}) =\\mathrm{Pr}(\\epsilon > -\\bf{x}\\beta) $  \n",
    "<br>\n",
    "<br>\n",
    "Because $\\epsilon$ belongs to a standard nomral $\\mathcal{N}(0, 1)$, $\\mathrm{Pr}(\\epsilon > -\\bf{x}\\beta) = \\mathrm{1} - \\mathrm{Pr}(\\epsilon <-\\bf{x}\\beta)  = \\mathrm{1} - \\mathrm{\\Phi(-\\bf{x}\\beta)} =\\mathrm{\\Phi(\\bf{x}\\beta)}$\n",
    "<br>\n",
    "<br>\n",
    "Therefore: $\\Pr(Y=1|\\bf{x}) = \\mathrm{\\Phi(\\bf{x}\\beta)}$\n",
    "</font>"
   ]
  },
  {
   "cell_type": "markdown",
   "metadata": {},
   "source": [
    "### (b)"
   ]
  },
  {
   "cell_type": "markdown",
   "metadata": {},
   "source": [
    "<font size = 3.5>\n",
    "$Y \\sim Bernoulli(p), p = \\Phi(\\bf{x}\\beta)： \\\\ $\n",
    "<br>\n",
    "$f(y|\\bf{x},\\beta) $ $=$ ${\\Phi(\\bf{x}\\beta)}^y{(1-\\Phi(\\bf{x}\\beta))}^{1-y}$, for $y=0,1$\n",
    "<br>\n",
    "<br>\n",
    "\n",
    "$\n",
    "L(\\beta) = \\mathrm{Pr}(Y=y_1... Y=y_n | \\beta, x_1...x_n) = \\displaystyle \\prod_{i=1}^N {\\Phi(\\bf{x_i}\\beta)}^{y_i}{(1-\\Phi(\\bf{x_i}\\beta))}^{1-y_i}  \\\\\n",
    "\\begin{align}\n",
    "logL(\\beta) &= log \\displaystyle \\prod_{i=1}^N {\\Phi(\\bf{x_i}\\beta)}^{y_i}{(1-\\Phi(\\bf{x_i}\\beta))}^{1-y_i}  \\\\\n",
    "            &= \\displaystyle \\sum_{i=1}^N log {\\Phi(\\bf{x_i}\\beta)}^{y_i}{(1-\\Phi(\\bf{x_i}\\beta))}^{1-y_i} \\\\\n",
    "            &=\\displaystyle \\sum_{i=1}^N log {\\Phi(\\bf{x_i}\\beta)}^{y_i} + log{(1-\\Phi(\\bf{x_i}\\beta))}^{1-y_i}\\\\\n",
    "            &=\\displaystyle \\sum_{i=1}^N log {\\Phi(\\bf{x_i}\\beta)}^{y_i} + log{(\\Phi(-\\bf{x_i}\\beta))}^{1-y_i} \\\\\n",
    "            &=\\displaystyle \\sum_{i=1}^N y_i\\  log {\\Phi(\\bf{x_i}\\beta)} + {(1-y_i)} \\ log{(\\Phi(-\\bf{x_i}\\beta))}\n",
    "\\end{align}\n",
    "$\n",
    "</font>"
   ]
  },
  {
   "cell_type": "markdown",
   "metadata": {},
   "source": [
    "### (c) "
   ]
  },
  {
   "cell_type": "markdown",
   "metadata": {},
   "source": [
    "<font size=4.5>\n",
    "$\n",
    "\\frac{\\partial -\\log\\Phi(a)}{\\partial a} = -\\frac{\\phi(a)}{\\Phi{a}}$\n",
    "<br>\n",
    "<br>\n",
    "$\\frac{\\partial^2-\\log(\\Phi(a))}{\\partial a^2} =\\frac{\\partial -\\frac{\\phi(a)}{\\Phi{a}}}{\\partial a} =-\\frac{-a\\phi{(a)}\\Phi{(a)}-(\\phi{(a)})^2}{(\\Phi(a))^2} =\\frac{a\\phi(a)\\Phi{(a)}+(\\phi{(a)})^2}{(\\Phi(a))^2} \n",
    "$\n",
    "</font>    \n",
    "<br>\n",
    "<br>\n",
    "Given $a\\Phi(a) + \\phi(a) > 0\\;\\text{and } \\phi(a) >0 \\;\\forall a $:\n",
    "<br>\n",
    "$$\n",
    "\\\\\n",
    "\\\\\n",
    "a\\phi{(a)}\\Phi{(a)}+(\\phi{(a)})^2 = \\phi{(a)}[a\\Phi{(a)} + \\phi{(a)}] \\geq 0\n",
    "$$\n",
    "<br>\n",
    "The denominator is ($\\Phi{(x)})^2$ , so $\\frac{\\partial^2-\\log(\\Phi(a))}{\\partial a^2} = \\frac{a\\phi{(a)}\\Phi{(a)}+(\\phi{(a)})^2}{(\\Phi(a))^2} \\geq 0 $ which indicates that $\\log\\Phi{(a)}$ is convex for all $a$.\n"
   ]
  },
  {
   "cell_type": "markdown",
   "metadata": {},
   "source": [
    "### (d)\n"
   ]
  },
  {
   "cell_type": "markdown",
   "metadata": {},
   "source": [
    "$$\\frac{\\partial -\\log \\mathcal{L}(\\beta)}{\\partial \\beta} = -\\sum_{i=1}^N y_i\\frac{x_i\\phi({\\mathbf{x}_i}\\beta)}{\\Phi(\\mathbf{x}_i\\beta)} + (1-y_i)\\frac{-x_i\\phi{(\\mathbf{x}_i\\beta)}}{1- \\Phi(\\mathbf{x}_i\\beta)}$$\n"
   ]
  },
  {
   "cell_type": "markdown",
   "metadata": {},
   "source": [
    "## 2. Adaboost with $L_2$ Loss"
   ]
  },
  {
   "cell_type": "markdown",
   "metadata": {},
   "source": [
    "### (a) "
   ]
  },
  {
   "cell_type": "markdown",
   "metadata": {},
   "source": [
    "The LHS:\n",
    "<br>\n",
    "$\n",
    "\\DeclareMathOperator*{\\argmax}{arg\\,max}\n",
    "\\begin{align}\n",
    "\\argmax\\limits_{j=1,\\dots,m} \\left[-\\frac{\\partial}{\\partial \\alpha}L({\\mathbf{\\lambda}} + \\alpha\\mathbf{e}_j)\\right]\\biggr|_{\\alpha = 0} &= \\argmax\\limits_{j=1,\\dots,m} \\left[-\\frac{\\partial}{\\partial \\alpha} \\frac{1}{n}\\sum_{i=1}^n [y_i - h(\\mathbf{x}_i)({\\mathbf{\\lambda}} + \\alpha\\mathbf{e}_j)]^2\\right]\\biggr|_{\\alpha = 0} \\\\\n",
    "                                               &=\\argmax\\limits_{j=1,\\dots,m} \\left[-\\frac{2}{n}\\sum_{i=1}^n [y_i - h(\\mathbf{x}_i)\\mathbf{({\\lambda}} + \\alpha\\mathbf{e}_j)][-h(\\mathbf{x}_i) \\mathbf{e}_j]\\right]\\biggr|_{\\alpha = 0}\\\\\n",
    "                                               &=\\argmax\\limits_{j=1,\\dots,m} \\left[\\sum_{i=1}^n [y_i - h(\\mathbf{x}_i)\\mathbf{({\\lambda}} + \\alpha\\mathbf{e}_j)]h_j(\\mathbf{x}_i)\\right]\\biggr|_{\\alpha = 0} \\\\\n",
    "                                               &=\\argmax\\limits_{j=1,\\dots,m} \\left[\\sum_{i=1}^n [y_i - h(\\mathbf{x}_i)\\mathbf{{\\lambda}}]h_j(\\mathbf{x}_i)\\right]\\\\\n",
    "                                               &=\\argmax\\limits_{j=1,\\dots,m} \\left[\\sum_{i=1}^n y_ih_j(\\mathbf{x}_i) - h_j(\\mathbf{x}_i)h(\\mathbf{x}_i)\\mathbf{{\\lambda}}\\right] \\\\\n",
    "                                               &=\\argmax\\limits_{j=1,\\dots,m} \\left[\\sum_{i=1}^n y_ih_j(\\mathbf{x}_i) - \\sum_{i=1}^nh_j(\\mathbf{x}_i)h(\\mathbf{x}_i)\\mathbf{{\\lambda}}\\right]\n",
    "\\end{align} \n",
    "$\n",
    "<br>\n",
    "<br>\n",
    "The RHS: \n",
    "<br>\n",
    "$\n",
    "\\begin{align}\n",
    "& \\ \\ \\ \\ \\ \\argmax\\limits_{j=1,\\dots, m} h_j^T(\\mathbf{X})(\\mathbf{y} - H(\\mathbf{X})\\mathbf{\\lambda})\\\\ &= \\argmax\\limits_{j=1,\\dots, m} h_j^T(\\mathbf{X})\\mathbf{y} -h_j^T(\\mathbf{X}) H(\\mathbf{X})\\mathbf{\\lambda} \\\\\n",
    "                                                                                            &=\\argmax\\limits_{j=1,\\dots, m}\\begin{bmatrix}h_j(\\mathbf{x}_1) \\cdots h_j(\\mathbf{x}_n)\\end{bmatrix} \\cdot  \\begin{bmatrix}y_1\\\\\\vdots\\\\ y_n\\end{bmatrix} - \\begin{bmatrix}h_j(\\mathbf{x}_1) \\cdots  h_j(\\mathbf{x}_n)\\end{bmatrix} \\cdot\\begin{bmatrix}\n",
    "h_1(\\mathbf{x}_1) & \\dots & h_m(\\mathbf{x}_1)\\\\\n",
    "\\vdots & \\ddots & \\vdots\\\\\n",
    "h_1(\\mathbf{x}_n) & \\dots & h_m(\\mathbf{x}_n)\n",
    "\\end{bmatrix} \\cdot {\\lambda} \\\\\n",
    "&=\\argmax\\limits_{j=1,\\dots, m}( h_j(\\mathbf{x}_1)y_1 + h_j(\\mathbf{x}_2)y_2+ \\cdots h_j(\\mathbf{x}_n)y_n )- \\left[h_j(\\mathbf{x}_1)h_1(\\mathbf{x}_1) + \\cdots +h_j(\\mathbf{x}_n)h_1(\\mathbf{x}_n)\\;, \\;\\;\\cdots \\;\\;, \\;h_j(\\mathbf{x}_1)h_m(\\mathbf{x}_1) + \\cdots +h_j(\\mathbf{x}_n)h_m(\\mathbf{x}_n)  \\right ] \\cdot \\lambda \\\\\n",
    "&=\\argmax\\limits_{j=1,\\dots, m}\\sum_{i=1}^n h_j(\\mathbf{x}_i)y_i - \\left[\\sum_{i=1}^n h_j(\\mathbf{x}_i)h_1(\\mathbf{x_i}) \\;, \\;\\;\\cdots \\;\\;, \\;\\sum_{i=1}^n h_j(\\mathbf{x}_i)h_m(\\mathbf{x_i})  \\right] \\cdot \\lambda\\\\\n",
    "&=\\argmax\\limits_{j=1,\\dots, m}\\sum_{i=1}^n h_j(\\mathbf{x}_i)y_i - \\sum_{i=1}^n h_j(\\mathbf{x}_i)\\left[h_1(\\mathbf{x_i}) \\;, \\;\\;\\cdots \\;\\;, \\;h_m(\\mathbf{x_i}) \\right] \\cdot \\lambda \\\\\n",
    "&=\\argmax\\limits_{j=1,\\dots, m}\\sum_{i=1}^n y_ih_j(\\mathbf{x}_i) - \\sum_{i=1}^n h_j(\\mathbf{x}_i)h(\\mathbf{x_i})\\lambda\n",
    "\\end{align}\n",
    "$\n",
    "<br>\n",
    "<br>\n",
    "Therefore, $\\argmax\\limits_{j=1,\\dots,m} \\left[-\\frac{\\partial}{\\partial \\alpha}L({\\mathbf{\\lambda}} + \\alpha\\mathbf{e}_j)\\right]\\biggr|_{\\alpha = 0} =\\argmax\\limits_{j=1,\\dots, m} h_j^T(\\mathbf{X})(\\mathbf{y} - H(\\mathbf{X})\\mathbf{\\lambda}) $"
   ]
  },
  {
   "cell_type": "markdown",
   "metadata": {},
   "source": [
    "### (b)"
   ]
  },
  {
   "cell_type": "markdown",
   "metadata": {},
   "source": [
    "Let\n",
    "<font size = 4.5>\n",
    "$\n",
    "\\frac{\\partial L(\\lambda + \\alpha\\mathbf{e}_j)}{\\partial \\alpha} \\; \\biggr|_{\\alpha^{(t)}} \n",
    "$\n",
    "</font>\n",
    "= 0, \n",
    "solve for $\\alpha^{(t)}$\n",
    "<br>\n",
    "<font size = 3.5>\n",
    "$\n",
    "\\begin{align}\n",
    "\\frac{\\partial L(\\lambda + \\alpha\\mathbf{e}_j^{(t)})}{\\partial \\alpha} \\; \\biggr|_{\\alpha^{(t)}} \n",
    "&= \\frac{2}{n}\\sum_{i=1}^n [y_i - h(\\mathbf{x}_i)\\mathbf{({\\lambda}} + \\alpha{\\mathbf{e}_j})](-h(\\mathbf{x}_i){\\mathbf{e}_j} )\\; \\biggr|_{\\alpha^{(t)}}  \\\\ \n",
    "&= \\frac{2}{n}\\sum_{i=1}^n [y_i - h(\\mathbf{x}_i)\\mathbf{({\\lambda}} + \\alpha^{(t)} {\\mathbf{e}_{j^{(t)}}})](-{h_{j^{(t)}}}(\\mathbf{x}_i)) \\\\\n",
    "&=\\frac{2}{n}\\sum_{i=1}^n \\left[-y_i{h_{j^{(t)}}}(\\mathbf{x}_i) + h(\\mathbf{x}_i)\\mathbf{{\\lambda}}{h_{j^{(t)}}}(\\mathbf{x}_i) + h(\\mathbf{x}_i)\\alpha^{(t)} {\\mathbf{e}_{j^{(t)}}}{h_{j^{(t)}}}(\\mathbf{x}_i)\\right] \\\\\n",
    "&=\\frac{2}{n}(-\\sum_{i=1}^n y_i{h_{j^{(t)}}}(\\mathbf{x}_i) - h(\\mathbf{x}_i)\\mathbf{{\\lambda}}{h_{j^{(t)}}}(\\mathbf{x}_i) + \\sum_{i=1}^n{h_{j^{(t)}}}(\\mathbf{x}_i)\\alpha^{(t)}{h_{j^{(t)}}}(\\mathbf{x}_i)) \\\\\n",
    "&=\\frac{2}{n}(-h_{j^{(t)}}^T(\\mathbf{X})(\\mathbf{y} - H(\\mathbf{X})\\mathbf{\\lambda}) + \\sum_{i=1}^n{h^2_{j^{(t)}}}(\\mathbf{x}_i)\\alpha^{(t)}) \\\\\n",
    "&= 0  \\\\\n",
    "\\end{align} \\\\\n",
    "\\sum_{i=1}^n{h^2_{j^{(t)}}}(\\mathbf{x}_i)\\alpha^{(t)} = h_{j^{(t)}}^T(\\mathbf{X})(\\mathbf{y} - H(\\mathbf{X})\\mathbf{\\lambda}) \\\\\n",
    "\\alpha^{(t)} = \\frac{h_{j^{(t)}}^T(\\mathbf{X})(\\mathbf{y} - H(\\mathbf{X})\\mathbf{\\lambda})}{\\sum_{i=1}^n{h^2_{j^{(t)}}}(\\mathbf{x}_i)}\n",
    "$\n",
    "</font>"
   ]
  },
  {
   "cell_type": "markdown",
   "metadata": {},
   "source": [
    "### (c)\n"
   ]
  },
  {
   "cell_type": "markdown",
   "metadata": {},
   "source": [
    "Given training data $D = {(x_i, y_i)}^n_{i=1}$ and maximum number of iterations T\n",
    "<br>\n",
    "Initialize weights: $\\boldsymbol\\lambda_1 = \\mathbf{0}$\n",
    "<br>\n",
    "$\\textbf{For } t=1, ... , T \\textbf{ do:}$\n",
    "<br>\n",
    "&nbsp;&nbsp;    $j_t \\in \\argmax\\limits_{j=1,\\dots, m} h_j^T(\\mathbf{X})(\\mathbf{y} - H(\\mathbf{X})\\mathbf{\\lambda}) $\n",
    "<br>    \n",
    "&nbsp; &nbsp;  compute for the coefficient:\n",
    " <font size = 3.5>\n",
    " $ \\alpha^{(t)} = \\frac{h_{j^{(t)}}^T(\\mathbf{X})(\\mathbf{y} - H(\\mathbf{X})\\mathbf{\\lambda})}{\\sum_{i=1}^n{h^2_{j^{(t)}}}(\\mathbf{x}_i)} $\n",
    "<br>\n",
    "</font>\n",
    "<br>\n",
    "&nbsp; &nbsp; update the weights for classifier: $\\lambda_{t+1} = \\lambda_{t} + \\alpha \\mathbf{e}_{jt}$\n",
    " <br>\n",
    "<br>\n",
    "$\\textbf{end for}$ \n",
    "<br>\n",
    "output the \n",
    "<font size = 3.5>\n",
    "$\\lambda h(x_i) = \\sum_{t=1}^T\\frac{h_{j^{(t)}}^T(\\mathbf{X})(\\mathbf{y} - H(\\mathbf{X})\\mathbf{\\lambda})}{\\sum_{i=1}^n{h^2_{j^{(t)}}}(\\mathbf{x}_i)}h_{j^{(t)}}(x_i)\n",
    "$\n",
    "</font>\n",
    "\n"
   ]
  },
  {
   "cell_type": "markdown",
   "metadata": {},
   "source": [
    "## 3.Comparing AdaBoost and Logistic Regression"
   ]
  },
  {
   "cell_type": "markdown",
   "metadata": {},
   "source": [
    "### (a)"
   ]
  },
  {
   "cell_type": "code",
   "execution_count": 59,
   "metadata": {},
   "outputs": [],
   "source": [
    "import pandas as pd\n",
    "import numpy as np\n",
    "training_data = pd.read_csv('house_votes_84_train.csv').values\n",
    "testing_data = pd.read_csv('house_votes_84_test.csv').values"
   ]
  },
  {
   "cell_type": "code",
   "execution_count": 69,
   "metadata": {},
   "outputs": [],
   "source": [
    "class Adaboost:\n",
    "    def __init__(self, training_data , testing_data):\n",
    "        self.label = training_data.T[0]\n",
    "        self.data = training_data[:,1:] \n",
    "        self.M = np.zeros((self.data.shape[0], self.data.shape[1]))   #matrix of margin for a weak classifier \n",
    "        for i in range(self.data.shape[1]):\n",
    "            self.M[:, i] = self.label * self.data[:,i] \n",
    "        self.lambda_ = np.zeros(self.data.shape[1])\n",
    "        self.test_data = testing_data[:,1:]\n",
    "        self.test_label = testing_data.T[0]\n",
    "\n",
    "    def train_adaboost(self): \n",
    "        d= np.ones(self.data.shape[0])/self.data.shape[0]\n",
    "        pre_error = 0;\n",
    "        error = 1;\n",
    "        error_index = []\n",
    "        Flag = False \n",
    "        count =1\n",
    "        while (abs(error - pre_error )> 10**-5):\n",
    "            if Flag:\n",
    "                pre_error = error \n",
    "            error = 0\n",
    "            j = np.argmax(np.dot(d.T,self.M))\n",
    "            for i in range(len(self.M.T[j])):\n",
    "                if self.M.T[j][i] < 0:\n",
    "                    error += d[i]\n",
    "                    error_index.append(i)\n",
    "            for k in range(len(d)):\n",
    "                if k in error_index:\n",
    "                    d[k] = 1/2*(d[k]/error)\n",
    "                else:\n",
    "                    d[k] = 1/2*(d[k]/(1-error))\n",
    "            alpha = 1/2*np.log((1-error) / error)\n",
    "            self.lambda_[j]+=alpha\n",
    "            error_index.clear()\n",
    "            Flag = True \n",
    "        \n",
    "    def predict(self,features):\n",
    "        return np.sign(np.dot(self.lambda_, features))\n",
    "    \n",
    "    def accuracy(self):\n",
    "        sum = 0;\n",
    "        for x in range(self.test_data.shape[0]):\n",
    "            if self.predict(self.test_data[x]) * self.test_label[x] > 0:\n",
    "                sum += 1\n",
    "        print(sum/self.test_data.shape[0])\n",
    "        return sum/self.test_data.shape[0]\n"
   ]
  },
  {
   "cell_type": "markdown",
   "metadata": {},
   "source": [
    "### (b)"
   ]
  },
  {
   "cell_type": "code",
   "execution_count": 70,
   "metadata": {},
   "outputs": [],
   "source": [
    "from scipy.optimize import minimize\n",
    "from math import log\n",
    "import sys\n",
    "class LR:\n",
    "    def __init__(self, training_data):\n",
    "        self.label = training_data.T[0]\n",
    "        self.data = training_data[:,1:] \n",
    "        self.lambda_ = np.zeros(self.data.shape[1])\n",
    "    def loss_fun(self, Lambda):\n",
    "        sum = 0 \n",
    "        for i in range(self.data.shape[0]): \n",
    "            sum += log(1+np.exp(-self.label[i] * np.dot(Lambda.T,self.data[i])))  \n",
    "        return sum\n",
    "    def maximization(self):\n",
    "        self.lambda_ = minimize(self.loss_fun,self.lambda_, method='SLSQP', tol =1e-6).x\n",
    "    def logistic_function(self,features):\n",
    "        probability = np.exp(np.dot(self.lambda_.T,features))/(1+np.exp(np.dot(self.lambda_.T,features)))\n",
    "        return probability\n",
    "    def predict(self,features):\n",
    "        probability_1 = self.logistic_function(features)\n",
    "        if probability_1 < 0.5:\n",
    "            return -1\n",
    "        else:\n",
    "            return 1"
   ]
  },
  {
   "cell_type": "code",
   "execution_count": 79,
   "metadata": {},
   "outputs": [],
   "source": [
    "##Notice: functions for calculating LR accuracy and making predictions for large dataset  They are not used for LR\n",
    "#impelementation!\n",
    "def LR_accuracy(real_label, predict_label):\n",
    "    misclassified_total = 0\n",
    "    for i in real_label*np.array(predict_label):\n",
    "        if i < 0:\n",
    "            misclassified_total+=1\n",
    "    print(1-misclassified_total/len(real_label))\n",
    "    return 1-misclassified_total/len(real_label)\n",
    "    \n",
    "def predict_dataset(dataset, model):\n",
    "    predicted_label = []\n",
    "    for i in range(dataset[:,1:].shape[0]):\n",
    "        label1 = model.predict(dataset[:,1:][i])\n",
    "        predicted_label.append(label1)\n",
    "    return predicted_label"
   ]
  },
  {
   "cell_type": "markdown",
   "metadata": {},
   "source": [
    "### (c)"
   ]
  },
  {
   "cell_type": "code",
   "execution_count": 80,
   "metadata": {},
   "outputs": [
    {
     "name": "stdout",
     "output_type": "stream",
     "text": [
      "The training accuracy for adaboost is 0.9428571428571428\n",
      "The testing accuracy for adaboost is 0.98\n"
     ]
    }
   ],
   "source": [
    "### adaboost train on training data set; test on both training and testing set \n",
    "Adaboost_training_object = Adaboost(training_data, training_data)\n",
    "Adaboost_training_object.train_adaboost()\n",
    "print('The training accuracy for adaboost is ',end='')\n",
    "_ = Adaboost_training_object.accuracy()\n",
    "Adaboost_testing_object = Adaboost(training_data, testing_data)\n",
    "Adaboost_testing_object.train_adaboost()\n",
    "print('The testing accuracy for adaboost is ',end='')\n",
    "_ = Adaboost_testing_object.accuracy()\n",
    "ada_prediction_testset = predict_dataset(testing_data,Adaboost_testing_object)"
   ]
  },
  {
   "cell_type": "code",
   "execution_count": 81,
   "metadata": {},
   "outputs": [
    {
     "name": "stdout",
     "output_type": "stream",
     "text": [
      "The training accuracy for LR is 0.9636363636363636\n",
      "The testing accuracy for LR is 0.94\n"
     ]
    }
   ],
   "source": [
    "# same thing on the LR \n",
    "Logistic_object = LR(training_data)\n",
    "Logistic_object.maximization()\n",
    "training_predict_label = predict_dataset(training_data, Logistic_object)\n",
    "print(\"The training accuracy for LR is \", end='')\n",
    "_=LR_accuracy(training_data.T[0], training_predict_label)\n",
    "testing_predict_label = predict_dataset(testing_data,Logistic_object)\n",
    "print(\"The testing accuracy for LR is \", end='')\n",
    "_=LR_accuracy(testing_data.T[0], testing_predict_label)"
   ]
  },
  {
   "cell_type": "code",
   "execution_count": 78,
   "metadata": {},
   "outputs": [
    {
     "data": {
      "image/png": "[encoded data removed]",
      "text/plain": [
       "<Figure size 432x288 with 1 Axes>"
      ]
     },
     "metadata": {
      "needs_background": "light"
     },
     "output_type": "display_data"
    }
   ],
   "source": [
    "## ROC curves\n",
    "import sklearn.metrics \n",
    "import matplotlib.pyplot as plt\n",
    "fpr_ad,tpr_ad,_ = sklearn.metrics.roc_curve(testing_data.T[0], ada_prediction_testset)\n",
    "fpr_lr,tpr_lr,_ = sklearn.metrics.roc_curve(testing_data.T[0] , testing_predict_label)\n",
    "plt.plot(fpr_ad,tpr_ad,label = \"ROC for Adaboost\")\n",
    "plt.plot(fpr_lr,tpr_lr,label = \"ROC for Logistic Regression\")\n",
    "plt.legend()\n",
    "plt.show()"
   ]
  },
  {
   "cell_type": "markdown",
   "metadata": {},
   "source": [
    "The logistic regression has higher training accuracy but we care more about the test accuracy which the adaboost is 4% accuracy higher than logistic regression. Therefore, given the test set, adaboost outperforms the logsitic regression. "
   ]
  },
  {
   "cell_type": "code",
   "execution_count": 65,
   "metadata": {},
   "outputs": [
    {
     "name": "stdout",
     "output_type": "stream",
     "text": [
      "AdaBoost for cross validation:\n",
      "Accuracy for fold1:   0.9487179487179487\n",
      "\n",
      "Accuracy for fold2:   0.9487179487179487\n",
      "\n",
      "Accuracy for fold3:   0.9743589743589743\n",
      "\n",
      "Accuracy for fold4:   0.9487179487179487\n",
      "\n",
      "Accuracy for fold5:   0.9743589743589743\n",
      "\n",
      "Accuracy for fold6:   0.9473684210526315\n",
      "\n",
      "Accuracy for fold7:   0.9473684210526315\n",
      "\n",
      "Accuracy for fold8:   0.9736842105263158\n",
      "\n",
      "Accuracy for fold9:   0.7894736842105263\n",
      "\n",
      "Accuracy for fold10:   0.9736842105263158\n",
      "\n",
      "The average accuracy for adaboost is 0.9426450742240216\n",
      "The stardard deviation for adaboost is 0.05533246287605921\n"
     ]
    }
   ],
   "source": [
    "### cross validation for adaboost\n",
    "from sklearn.model_selection import train_test_split, KFold\n",
    "from statistics import stdev, mean\n",
    "cv= KFold(n_splits=10)\n",
    "fold_number =1\n",
    "accuracy_list =[]\n",
    "print('AdaBoost for cross validation:')\n",
    "for train, test in cv.split(training_data):\n",
    "    Adaboost_object = Adaboost(training_data[train],training_data[test])\n",
    "    Adaboost_object.train_adaboost()\n",
    "    print('Accuracy for fold' + str(fold_number) + ':   ', end='')\n",
    "    accuracy = Adaboost_object.accuracy()\n",
    "    print('')\n",
    "    accuracy_list.append(accuracy)\n",
    "    fold_number +=1\n",
    "mean_Ada = mean(accuracy_list)\n",
    "std_Ada =stdev(accuracy_list)\n",
    "print('The average accuracy for adaboost is', mean_Ada)\n",
    "print('The stardard deviation for adaboost is', std_Ada)"
   ]
  },
  {
   "cell_type": "code",
   "execution_count": 66,
   "metadata": {},
   "outputs": [
    {
     "name": "stdout",
     "output_type": "stream",
     "text": [
      "Logisitic Regression for cross validation:\n",
      "Accuracy for fold1:  0.9743589743589743\n",
      "\n",
      "Accuracy for fold2:  0.9743589743589743\n",
      "\n",
      "Accuracy for fold3:  0.9487179487179487\n",
      "\n",
      "Accuracy for fold4:  0.9487179487179487\n",
      "\n",
      "Accuracy for fold5:  0.9487179487179487\n",
      "\n",
      "Accuracy for fold6:  0.9473684210526316\n",
      "\n",
      "Accuracy for fold7:  0.9736842105263158\n",
      "\n",
      "Accuracy for fold8:  0.8947368421052632\n",
      "\n",
      "Accuracy for fold9:  0.8421052631578947\n",
      "\n",
      "Accuracy for fold10:  0.9473684210526316\n",
      "\n",
      "The average accuracy for logistic regression is 0.9400134952766531\n",
      "The stardard deviation for logistic regression is 0.041452021216918246\n"
     ]
    }
   ],
   "source": [
    "### cross validation  for LR\n",
    "fold_number =1\n",
    "accuracy_list2=[]\n",
    "print('Logisitic Regression for cross validation:')\n",
    "for train, test in cv.split(training_data):\n",
    "    LR_classifier = LR(training_data[train])\n",
    "    LR_classifier.maximization()\n",
    "    LR_predicted_labels = predict_dataset(training_data[test], LR_classifier) \n",
    "    print('Accuracy for fold'+ str(fold_number) + ':  ', end='') \n",
    "    accuracy = LR_accuracy(training_data[test].T[0], LR_predicted_labels)\n",
    "    print('')\n",
    "    accuracy_list2.append(accuracy)\n",
    "    fold_number +=1\n",
    "\n",
    "mean_LR = mean(accuracy_list2)\n",
    "std_LR =stdev(accuracy_list2)\n",
    "print('The average accuracy for logistic regression is', mean_LR)\n",
    "print('The stardard deviation for logistic regression is', std_LR)  \n"
   ]
  },
  {
   "cell_type": "markdown",
   "metadata": {},
   "source": [
    "Use the cross validation, we can see the average accuracy for both alogrithms are very close, adaboost slightly outperforms logisitic regression on the accuracy, something around 0.2% but LR has stardard deviation which is 0.5% lower than adaboost does. Therefore, the performances for both algorithm are almost the same for this real-world data. "
   ]
  },
  {
   "cell_type": "markdown",
   "metadata": {},
   "source": [
    "### (d)"
   ]
  },
  {
   "cell_type": "code",
   "execution_count": 47,
   "metadata": {},
   "outputs": [
    {
     "name": "stdout",
     "output_type": "stream",
     "text": [
      "The Testing accuracy with permuted features for Adaboost\n",
      "bill_1: 0.98\n",
      "bill_2: 0.98\n",
      "bill_3: 0.98\n",
      "bill_4: 0.62\n",
      "bill_5: 0.96\n",
      "bill_6: 0.98\n",
      "bill_7: 0.98\n",
      "bill_8: 0.98\n",
      "bill_9: 0.98\n",
      "bill_10: 0.98\n",
      "bill_11: 0.98\n",
      "bill_12: 0.96\n",
      "bill_13: 0.98\n",
      "bill_14: 0.98\n",
      "bill_15: 0.98\n",
      "bill_16: 0.98\n"
     ]
    }
   ],
   "source": [
    "# variable importance. randomly permute a feature on the test set and look into the accuracy change\n",
    "# adaboost \n",
    "testing_dataframe =  pd.read_csv('house_votes_84_test.csv')\n",
    "original_dataframe = testing_dataframe.copy(deep=True)\n",
    "column_names =list(testing_dataframe)\n",
    "print('The Testing accuracy with permuted features for Adaboost')\n",
    "for name in column_names[1:]:\n",
    "    testing_dataframe[name] = np.random.permutation(testing_dataframe[name])\n",
    "    test_new_data = testing_dataframe.values\n",
    "    Adaboost_permuted_object = Adaboost(training_data, test_new_data)\n",
    "    print(name + ': ',end='')\n",
    "    Adaboost_permuted_object.train_adaboost()\n",
    "    _ = Adaboost_permuted_object.accuracy()\n",
    "    testing_dataframe=original_dataframe.copy(deep=True)\n",
    "    \n",
    "    "
   ]
  },
  {
   "cell_type": "code",
   "execution_count": 48,
   "metadata": {},
   "outputs": [
    {
     "name": "stdout",
     "output_type": "stream",
     "text": [
      "The testing accuracy with permuted features for Logistic Regression\n",
      "bill_1: 0.96\n",
      "bill_2: 0.94\n",
      "bill_3: 0.9\n",
      "bill_4: 0.62\n",
      "bill_5: 0.94\n",
      "bill_6: 0.98\n",
      "bill_7: 0.96\n",
      "bill_8: 0.92\n",
      "bill_9: 0.94\n",
      "bill_10: 0.96\n",
      "bill_11: 0.94\n",
      "bill_12: 0.96\n",
      "bill_13: 0.96\n",
      "bill_14: 0.96\n",
      "bill_15: 0.94\n",
      "bill_16: 0.94\n"
     ]
    }
   ],
   "source": [
    "# same thing for the LR \n",
    "testing_dataframe =  pd.read_csv('house_votes_84_test.csv')\n",
    "original_dataframe = testing_dataframe.copy(deep=True)\n",
    "column_names =list(testing_dataframe)\n",
    "print(\"The testing accuracy with permuted features for Logistic Regression\")\n",
    "for name in column_names[1:]:\n",
    "    testing_dataframe[name] = np.random.permutation(testing_dataframe[name])\n",
    "    test_new_data = testing_dataframe.values\n",
    "    Logistic_model = LR(training_data)\n",
    "    Logistic_model.maximization()\n",
    "    testing_predict_label = predict_dataset(test_new_data,Logistic_model)\n",
    "    print(name + ': ', end='')\n",
    "    LR_accuracy(test_new_data.T[0], testing_predict_label)\n",
    "    testing_dataframe=original_dataframe.copy(deep=True)"
   ]
  },
  {
   "cell_type": "markdown",
   "metadata": {},
   "source": [
    "I use the variable importance method to randomly permute the values for each features on the test data set, more specifically each bill, and find out the accuracy of both the adaboost and the logistic regression testing on the permuted-features data set. Both learning algorithms show that the fourth bill is extremely crucial that it is almost dominiating the importances of all the other bills because no matter which feature except bill_4 is permuted, the overall accuracy is around 95% (or higher) for both algorithms. However, once we shuffled the values for bill_4, adaboost acted worse than a weak classifier (below 0.5), and the performance of Logisitic Regression falls dramatically."
   ]
  }
 ],
 "metadata": {
  "kernelspec": {
   "display_name": "Python 2",
   "language": "python",
   "name": "python2"
  },
  "language_info": {
   "codemirror_mode": {
    "name": "ipython",
    "version": 2
   },
   "file_extension": ".py",
   "mimetype": "text/x-python",
   "name": "python",
   "nbconvert_exporter": "python",
   "pygments_lexer": "ipython2",
   "version": "2.7.15"
  }
 },
 "nbformat": 4,
 "nbformat_minor": 2
}
